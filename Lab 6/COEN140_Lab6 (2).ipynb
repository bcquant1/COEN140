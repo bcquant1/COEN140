{
 "cells": [
  {
   "cell_type": "code",
   "execution_count": 1,
   "metadata": {},
   "outputs": [],
   "source": [
    "import numpy as np\n",
    "import math"
   ]
  },
  {
   "cell_type": "markdown",
   "metadata": {},
   "source": [
    "File I/O"
   ]
  },
  {
   "cell_type": "code",
   "execution_count": 2,
   "metadata": {},
   "outputs": [],
   "source": [
    "training_data = np.loadtxt('crime-train.txt', delimiter = '\\t', skiprows = 1)\n",
    "testing_data = np.loadtxt('crime-test.txt', delimiter = '\\t', skiprows = 1)\n",
    "\n",
    "Xtrain = training_data[:,1:]\n",
    "arr_ones = np.ones(len(Xtrain))\n",
    "Xtrain = np.column_stack((Xtrain,arr_ones))\n",
    "Ytrain = training_data[:,0:1]\n",
    "\n",
    "Xtest = testing_data[:,1:]\n",
    "arr_ones = np.ones(len(Xtest))\n",
    "Xtest = np.column_stack((Xtest,arr_ones))\n",
    "Ytest = testing_data[:,0:1] "
   ]
  },
  {
   "cell_type": "markdown",
   "metadata": {},
   "source": [
    "# Ridge Regression with K Fold Cross Validation"
   ]
  },
  {
   "cell_type": "code",
   "execution_count": 3,
   "metadata": {},
   "outputs": [],
   "source": [
    "def ridge_regression(X,Y,data,Lambda):\n",
    "    w = np.dot((np.linalg.inv(np.dot(X.T,X) + Lambda*np.identity(len(X.T)))),(np.dot(X.T,Y)))\n",
    "    prediction_y = []\n",
    "    for x in data:\n",
    "        prediction_y.append(np.dot(x.T,w))\n",
    "    return prediction_y"
   ]
  },
  {
   "cell_type": "code",
   "execution_count": 4,
   "metadata": {},
   "outputs": [],
   "source": [
    "def RMSE_calc(prediction_y,Y):\n",
    "    difference = prediction_y - Y\n",
    "    sum = 0\n",
    "    for i in difference:\n",
    "        sum += i**2\n",
    "    RMSE = math.sqrt(sum/(len(prediction_y)))\n",
    "    return RMSE"
   ]
  },
  {
   "cell_type": "markdown",
   "metadata": {},
   "source": [
    "Data for Training Partitions"
   ]
  },
  {
   "cell_type": "code",
   "execution_count": 5,
   "metadata": {},
   "outputs": [],
   "source": [
    "Xtrain_partition1 = Xtrain[0:319]\n",
    "Xtrain_partition2 = Xtrain[319:638]\n",
    "Xtrain_partition3 = Xtrain[638:957]\n",
    "Xtrain_partition4 = Xtrain[957:1276]\n",
    "Xtrain_partition5 = Xtrain[1276:1595]\n",
    "\n",
    "Ytrain_partition1 = Ytrain[0:319]\n",
    "Ytrain_partition2 = Ytrain[319:638]\n",
    "Ytrain_partition3 = Ytrain[638:957]\n",
    "Ytrain_partition4 = Ytrain[957:1276]\n",
    "Ytrain_partition5 = Ytrain[1276:1595]\n",
    "\n",
    "Xcomb1 = np.concatenate((Xtrain_partition1,Xtrain_partition2,Xtrain_partition3,Xtrain_partition4))\n",
    "Xcomb2 = np.concatenate((Xtrain_partition1,Xtrain_partition2,Xtrain_partition3,Xtrain_partition5))\n",
    "Xcomb3 = np.concatenate((Xtrain_partition1,Xtrain_partition2,Xtrain_partition4,Xtrain_partition5))\n",
    "Xcomb4 = np.concatenate((Xtrain_partition1,Xtrain_partition3,Xtrain_partition4,Xtrain_partition5))\n",
    "Xcomb5 = np.concatenate((Xtrain_partition2,Xtrain_partition3,Xtrain_partition4,Xtrain_partition5))\n",
    "\n",
    "Ycomb1 = np.concatenate((Ytrain_partition1,Ytrain_partition2,Ytrain_partition3,Ytrain_partition4))\n",
    "Ycomb2 = np.concatenate((Ytrain_partition1,Ytrain_partition2,Ytrain_partition3,Ytrain_partition5))\n",
    "Ycomb3 = np.concatenate((Ytrain_partition1,Ytrain_partition2,Ytrain_partition4,Ytrain_partition5))\n",
    "Ycomb4 = np.concatenate((Ytrain_partition1,Ytrain_partition3,Ytrain_partition4,Ytrain_partition5))\n",
    "Ycomb5 = np.concatenate((Ytrain_partition2,Ytrain_partition3,Ytrain_partition4,Ytrain_partition5))"
   ]
  },
  {
   "cell_type": "markdown",
   "metadata": {},
   "source": [
    "Calculating Average RMSE values and finding the optimal lambda"
   ]
  },
  {
   "cell_type": "code",
   "execution_count": 17,
   "metadata": {
    "scrolled": true
   },
   "outputs": [
    {
     "name": "stdout",
     "output_type": "stream",
     "text": [
      "Lambda 400 : 0.14951277619075798\n",
      "Lambda 200.0 : 0.14069401845317783\n",
      "Lambda 100.0 : 0.13727677223186574\n",
      "Lambda 50.0 : 0.13615594392755517\n",
      "Lambda 25.0 : 0.13591585919851973\n",
      "Lambda 12.5 : 0.13602237446230672\n",
      "Lambda 6.25 : 0.13626786494076767\n",
      "Lambda 3.125 : 0.13657095693642834\n",
      "Lambda 1.5625 : 0.13688764073197443\n",
      "Lambda 0.78125 : 0.1371762680686677\n",
      "\n",
      "Optimal RMSE: 0.13591585919851973 at lambda value = 25.0\n"
     ]
    }
   ],
   "source": [
    "avg_RMSE_values = []\n",
    "min_RMSE = 10\n",
    "init_lambda = 400\n",
    "idx = 0\n",
    "for i in range(10):\n",
    "    RMSE_values = []\n",
    "    prediction1 = ridge_regression(Xcomb1,Ycomb1,Xtrain_partition5,init_lambda)\n",
    "    prediction2 = ridge_regression(Xcomb2,Ycomb2,Xtrain_partition4,init_lambda)\n",
    "    prediction3 = ridge_regression(Xcomb3,Ycomb3,Xtrain_partition3,init_lambda)\n",
    "    prediction4 = ridge_regression(Xcomb4,Ycomb4,Xtrain_partition2,init_lambda)\n",
    "    prediction5 = ridge_regression(Xcomb5,Ycomb5,Xtrain_partition1,init_lambda)\n",
    "    \n",
    "    RMSE_values.append(RMSE_calc(prediction1,Ytrain_partition5))\n",
    "    RMSE_values.append(RMSE_calc(prediction2,Ytrain_partition4))\n",
    "    RMSE_values.append(RMSE_calc(prediction3,Ytrain_partition3))\n",
    "    RMSE_values.append(RMSE_calc(prediction4,Ytrain_partition2))\n",
    "    RMSE_values.append(RMSE_calc(prediction5,Ytrain_partition1))\n",
    "    \n",
    "    for j in range(len(RMSE_values)):\n",
    "        avg_RMSE = (sum(RMSE_values))/5\n",
    "    avg_RMSE_values.append(avg_RMSE)\n",
    "    \n",
    "    init_lambda /= 2\n",
    "\n",
    "Lambda = 400\n",
    "for i in avg_RMSE_values:\n",
    "    print(\"Lambda\", Lambda, \":\",i)\n",
    "    if i < min_RMSE:\n",
    "        min_RMSE = i\n",
    "        opt_lambda = Lambda\n",
    "    Lambda /= 2\n",
    "idx = avg_RMSE_values.index(min(avg_RMSE_values)) \n",
    "print(\"\\nOptimal RMSE:\", min_RMSE, \"at lambda value =\", opt_lambda)\n"
   ]
  },
  {
   "cell_type": "markdown",
   "metadata": {},
   "source": [
    "The lambda I chose was the lambda value = 25. This is because this lambda gave the smallest average RMSE value."
   ]
  },
  {
   "cell_type": "code",
   "execution_count": 7,
   "metadata": {},
   "outputs": [
    {
     "name": "stdout",
     "output_type": "stream",
     "text": [
      "RMSE_Value for testing data = 0.1457465070705795\n"
     ]
    }
   ],
   "source": [
    "testing_predictions = ridge_regression(Xtrain,Ytrain,Xtest,opt_lambda)\n",
    "RMSE_value = RMSE_calc(testing_predictions,Ytest)\n",
    "print(\"RMSE_Value for testing data = %s\" %RMSE_value)"
   ]
  },
  {
   "cell_type": "markdown",
   "metadata": {},
   "source": [
    "Lab 5 Ridge Regression RMSE Using Lambda = 100: 0.14583464490949322"
   ]
  },
  {
   "cell_type": "markdown",
   "metadata": {},
   "source": [
    "# Linear Regression Using Gradient Descent Algorithm"
   ]
  },
  {
   "cell_type": "code",
   "execution_count": 8,
   "metadata": {},
   "outputs": [],
   "source": [
    "def gradient_descent(X,Y,w):\n",
    "    wPlus = w + (alpha*np.dot(X.T,(Y-np.dot(X,w))))\n",
    "    return wPlus"
   ]
  },
  {
   "cell_type": "code",
   "execution_count": 9,
   "metadata": {},
   "outputs": [],
   "source": [
    "def lr_loss(X,Y,w):\n",
    "    loss = np.dot((Y-np.dot(X,w)).T,(Y-np.dot(X,w)))\n",
    "    return loss"
   ]
  },
  {
   "cell_type": "code",
   "execution_count": 10,
   "metadata": {},
   "outputs": [],
   "source": [
    "alpha = 0.00001\n",
    "w0 = np.random.normal(0,1,(Xtrain.shape[1],1))\n",
    "L1 = 1\n",
    "L0 = 0\n",
    "while(abs(L1-L0) > 0.00001):\n",
    "    wPlus = gradient_descent(Xtrain,Ytrain,w0)\n",
    "    L0 = lr_loss(Xtrain,Ytrain,w0)\n",
    "    L1 = lr_loss(Xtrain,Ytrain,wPlus)\n",
    "    w0 = wPlus"
   ]
  },
  {
   "cell_type": "code",
   "execution_count": 11,
   "metadata": {},
   "outputs": [
    {
     "name": "stdout",
     "output_type": "stream",
     "text": [
      "GD Training RMSE: 0.12860433042231625\n",
      "GD Testing RMSE: 0.1474132307679807\n"
     ]
    }
   ],
   "source": [
    "predictions_train = []\n",
    "predictions_test = []\n",
    "\n",
    "for x in Xtrain:\n",
    "    predictions_train.append(np.dot(x.T,w0))\n",
    "for x in Xtest:\n",
    "    predictions_test.append(np.dot(x.T,w0))\n",
    "    \n",
    "GDtrain_RMSE = RMSE_calc(predictions_train,Ytrain)\n",
    "GDtest_RMSE = RMSE_calc(predictions_test,Ytest)\n",
    "print(\"GD Training RMSE:\", GDtrain_RMSE)\n",
    "print(\"GD Testing RMSE:\", GDtest_RMSE)"
   ]
  },
  {
   "cell_type": "markdown",
   "metadata": {},
   "source": [
    "Lab 5 Training and Testing RMSE:\n",
    "    \n",
    "Training RMSE: 0.1276896742176219\n",
    "\n",
    "Testing RMSE: 0.14583464490949322"
   ]
  },
  {
   "cell_type": "markdown",
   "metadata": {},
   "source": [
    "# Ridge Regression Using Gradient Descent and K Fold Cross Validation"
   ]
  },
  {
   "cell_type": "markdown",
   "metadata": {},
   "source": [
    "Data for Training Partitions"
   ]
  },
  {
   "cell_type": "code",
   "execution_count": 12,
   "metadata": {},
   "outputs": [
    {
     "name": "stdout",
     "output_type": "stream",
     "text": [
      "Lambda 400 : 0.14951277619075798\n",
      "Lambda 200.0 : 0.14069401845317783\n",
      "Lambda 100.0 : 0.13727677223186574\n",
      "Lambda 50.0 : 0.13615594392755517\n",
      "Lambda 25.0 : 0.13591585919851973\n",
      "Lambda 12.5 : 0.13602237446230672\n",
      "Lambda 6.25 : 0.13626786494076767\n",
      "Lambda 3.125 : 0.13657095693642834\n",
      "Lambda 1.5625 : 0.13688764073197443\n",
      "Lambda 0.78125 : 0.1371762680686677\n",
      "\n",
      "Optimal RMSE: 0.13591585919851973 at lambda value = 25.0\n"
     ]
    }
   ],
   "source": [
    "Xtrain_partition1 = Xtrain[0:319]\n",
    "Xtrain_partition2 = Xtrain[319:638]\n",
    "Xtrain_partition3 = Xtrain[638:957]\n",
    "Xtrain_partition4 = Xtrain[957:1276]\n",
    "Xtrain_partition5 = Xtrain[1276:1595]\n",
    "\n",
    "Ytrain_partition1 = Ytrain[0:319]\n",
    "Ytrain_partition2 = Ytrain[319:638]\n",
    "Ytrain_partition3 = Ytrain[638:957]\n",
    "Ytrain_partition4 = Ytrain[957:1276]\n",
    "Ytrain_partition5 = Ytrain[1276:1595]\n",
    "\n",
    "Xcomb1 = np.concatenate((Xtrain_partition1,Xtrain_partition2,Xtrain_partition3,Xtrain_partition4))\n",
    "Xcomb2 = np.concatenate((Xtrain_partition1,Xtrain_partition2,Xtrain_partition3,Xtrain_partition5))\n",
    "Xcomb3 = np.concatenate((Xtrain_partition1,Xtrain_partition2,Xtrain_partition4,Xtrain_partition5))\n",
    "Xcomb4 = np.concatenate((Xtrain_partition1,Xtrain_partition3,Xtrain_partition4,Xtrain_partition5))\n",
    "Xcomb5 = np.concatenate((Xtrain_partition2,Xtrain_partition3,Xtrain_partition4,Xtrain_partition5))\n",
    "\n",
    "Ycomb1 = np.concatenate((Ytrain_partition1,Ytrain_partition2,Ytrain_partition3,Ytrain_partition4))\n",
    "Ycomb2 = np.concatenate((Ytrain_partition1,Ytrain_partition2,Ytrain_partition3,Ytrain_partition5))\n",
    "Ycomb3 = np.concatenate((Ytrain_partition1,Ytrain_partition2,Ytrain_partition4,Ytrain_partition5))\n",
    "Ycomb4 = np.concatenate((Ytrain_partition1,Ytrain_partition3,Ytrain_partition4,Ytrain_partition5))\n",
    "Ycomb5 = np.concatenate((Ytrain_partition2,Ytrain_partition3,Ytrain_partition4,Ytrain_partition5))\n",
    "\n",
    "avg_RMSE_values = []\n",
    "min_RMSE = 10\n",
    "init_lambda = 400\n",
    "idx = 0\n",
    "for i in range(10):\n",
    "    RMSE_values = []\n",
    "    prediction1 = ridge_regression(Xcomb1,Ycomb1,Xtrain_partition5,init_lambda)\n",
    "    prediction2 = ridge_regression(Xcomb2,Ycomb2,Xtrain_partition4,init_lambda)\n",
    "    prediction3 = ridge_regression(Xcomb3,Ycomb3,Xtrain_partition3,init_lambda)\n",
    "    prediction4 = ridge_regression(Xcomb4,Ycomb4,Xtrain_partition2,init_lambda)\n",
    "    prediction5 = ridge_regression(Xcomb5,Ycomb5,Xtrain_partition1,init_lambda)\n",
    "    \n",
    "    RMSE_values.append(RMSE_calc(prediction1,Ytrain_partition5))\n",
    "    RMSE_values.append(RMSE_calc(prediction2,Ytrain_partition4))\n",
    "    RMSE_values.append(RMSE_calc(prediction3,Ytrain_partition3))\n",
    "    RMSE_values.append(RMSE_calc(prediction4,Ytrain_partition2))\n",
    "    RMSE_values.append(RMSE_calc(prediction5,Ytrain_partition1))\n",
    "    \n",
    "    for j in range(len(RMSE_values)):\n",
    "        avg_RMSE = (sum(RMSE_values))/5\n",
    "    avg_RMSE_values.append(avg_RMSE)\n",
    "    \n",
    "    init_lambda /= 2\n",
    "\n",
    "Lambda = 400\n",
    "for i in avg_RMSE_values:\n",
    "    print(\"Lambda\", Lambda, \":\",i)\n",
    "    if i < min_RMSE:\n",
    "        min_RMSE = i\n",
    "        opt_lambda = Lambda\n",
    "    Lambda /= 2\n",
    "idx = avg_RMSE_values.index(min(avg_RMSE_values)) \n",
    "print(\"\\nOptimal RMSE:\", min_RMSE, \"at lambda value =\", opt_lambda)"
   ]
  },
  {
   "cell_type": "code",
   "execution_count": 13,
   "metadata": {},
   "outputs": [],
   "source": [
    "def rr_loss(X,Y,w):\n",
    "    loss = np.dot((Y-np.dot(X,w)).T,(Y-np.dot(X,w))) + (opt_lambda*np.dot(w.T,w))\n",
    "    return loss"
   ]
  },
  {
   "cell_type": "code",
   "execution_count": 14,
   "metadata": {},
   "outputs": [],
   "source": [
    "def gradient_descent_rr(X,Y,w):\n",
    "    wPlus = w + (alpha*(np.dot(X.T,(Y-np.dot(X,w))) - opt_lambda*w))\n",
    "    return wPlus"
   ]
  },
  {
   "cell_type": "code",
   "execution_count": 15,
   "metadata": {},
   "outputs": [],
   "source": [
    "alpha = 0.00001\n",
    "w0 = np.random.normal(0,1,(Xtrain.shape[1],1))\n",
    "L1 = 1\n",
    "L0 = 0\n",
    "while(abs(L1-L0) > 0.00001):\n",
    "    wPlus = gradient_descent_rr(Xtrain,Ytrain,w0) \n",
    "    L0 = lr_loss(Xtrain,Ytrain,w0)\n",
    "    L1 = lr_loss(Xtrain,Ytrain,wPlus)\n",
    "    w0 = wPlus"
   ]
  },
  {
   "cell_type": "code",
   "execution_count": 16,
   "metadata": {},
   "outputs": [
    {
     "name": "stdout",
     "output_type": "stream",
     "text": [
      "Training RMSE: 0.1288712924908713\n",
      "Testing RMSE: 0.14581250540153343\n"
     ]
    }
   ],
   "source": [
    "predictions_train = []\n",
    "predictions_test = []\n",
    "\n",
    "for x in Xtrain:\n",
    "    predictions_train.append(np.dot(x.T,w0))\n",
    "for x in Xtest:\n",
    "    predictions_test.append(np.dot(x.T,w0))\n",
    "    \n",
    "GDtrain_RMSE = RMSE_calc(predictions_train,Ytrain)\n",
    "GDtest_RMSE = RMSE_calc(predictions_test,Ytest)\n",
    "print(\"Training RMSE:\", GDtrain_RMSE)\n",
    "print(\"Testing RMSE:\", GDtest_RMSE)"
   ]
  },
  {
   "cell_type": "markdown",
   "metadata": {},
   "source": [
    "Lab 5 Training and Testing RMSE:\n",
    "\n",
    "Training RMSE: 0.13134320424615784\n",
    "\n",
    "Testing RMSE: 0.14765698468526112"
   ]
  },
  {
   "cell_type": "markdown",
   "metadata": {},
   "source": [
    "In this lab, we can see that the RMSE values from Lab 6 and Lab 5 are very similar. For linear regression, the lab 5 RMSE values were smaller, which may be because of how the data is formatted. For ridge regression, the lab 6 RMSE values are smaller."
   ]
  },
  {
   "cell_type": "code",
   "execution_count": null,
   "metadata": {},
   "outputs": [],
   "source": []
  }
 ],
 "metadata": {
  "kernelspec": {
   "display_name": "Python 3",
   "language": "python",
   "name": "python3"
  },
  "language_info": {
   "codemirror_mode": {
    "name": "ipython",
    "version": 3
   },
   "file_extension": ".py",
   "mimetype": "text/x-python",
   "name": "python",
   "nbconvert_exporter": "python",
   "pygments_lexer": "ipython3",
   "version": "3.7.6"
  }
 },
 "nbformat": 4,
 "nbformat_minor": 4
}

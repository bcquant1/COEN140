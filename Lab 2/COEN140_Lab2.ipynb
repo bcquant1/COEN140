{
 "cells": [
  {
   "cell_type": "code",
   "execution_count": 36,
   "metadata": {
    "scrolled": false
   },
   "outputs": [
    {
     "name": "stdout",
     "output_type": "stream",
     "text": [
      "Arr1:  [[1. 1. 1. ... 1. 1. 1.]\n",
      " [1. 1. 1. ... 1. 1. 1.]\n",
      " [1. 1. 1. ... 1. 1. 1.]\n",
      " ...\n",
      " [1. 1. 1. ... 1. 1. 1.]\n",
      " [1. 1. 1. ... 1. 1. 1.]\n",
      " [1. 1. 1. ... 1. 1. 1.]]\n",
      "Arr2:  [[1. 1. 1. ... 1. 1. 1.]\n",
      " [1. 1. 1. ... 1. 1. 1.]\n",
      " [1. 1. 1. ... 1. 1. 1.]\n",
      " ...\n",
      " [1. 1. 1. ... 1. 1. 1.]\n",
      " [1. 1. 1. ... 1. 1. 1.]\n",
      " [1. 1. 1. ... 1. 1. 1.]]\n",
      "1000\n",
      "Average:  0.10331658500000027\n",
      "Standard Deviation:  0.009151382182086283\n"
     ]
    }
   ],
   "source": [
    "from time import process_time\n",
    "import statistics\n",
    "import numpy as np\n",
    "\n",
    "def for_loop(arr1,arr2):\n",
    "    new_arr = np.empty([0,0])\n",
    "    start = process_time()\n",
    "    for i in range(100):\n",
    "        for j in range(100):\n",
    "            new_arr = np.append(new_arr, arr1[i][j] + arr2[i][j])\n",
    "    end = process_time()\n",
    "    total_time = end - start\n",
    "    #print(\"Total Time:\" , total_time)\n",
    "    arr_for_loop.append(total_time)\n",
    "    #print(\"New_arr: \", new_arr)\n",
    "    \n",
    "arr1 = np.ones((100,100))\n",
    "arr2 = np.ones((100,100))\n",
    "print(\"Arr1: \", arr1)\n",
    "print(\"Arr2: \", arr2)\n",
    "arr_for_loop = []\n",
    "for i in range(1000):\n",
    "    for_loop(arr1,arr2)\n",
    "total = 0\n",
    "for j in arr_for_loop:\n",
    "    total += j\n",
    "average = total/1000\n",
    "print(len(arr_for_loop))\n",
    "print(\"Average: \", average)\n",
    "print(\"Standard Deviation: \", statistics.stdev(arr_for_loop,average))"
   ]
  },
  {
   "cell_type": "code",
   "execution_count": 34,
   "metadata": {
    "scrolled": true
   },
   "outputs": [
    {
     "name": "stdout",
     "output_type": "stream",
     "text": [
      "Arr1:  [[1. 1. 1. ... 1. 1. 1.]\n",
      " [1. 1. 1. ... 1. 1. 1.]\n",
      " [1. 1. 1. ... 1. 1. 1.]\n",
      " ...\n",
      " [1. 1. 1. ... 1. 1. 1.]\n",
      " [1. 1. 1. ... 1. 1. 1.]\n",
      " [1. 1. 1. ... 1. 1. 1.]]\n",
      "Arr2:  [[1. 1. 1. ... 1. 1. 1.]\n",
      " [1. 1. 1. ... 1. 1. 1.]\n",
      " [1. 1. 1. ... 1. 1. 1.]\n",
      " ...\n",
      " [1. 1. 1. ... 1. 1. 1.]\n",
      " [1. 1. 1. ... 1. 1. 1.]\n",
      " [1. 1. 1. ... 1. 1. 1.]]\n",
      "1000\n",
      "Average:  1.1918000000093799e-05\n",
      "Standard Deviation:  3.1793302597703885e-05\n"
     ]
    }
   ],
   "source": [
    "def using_operator(arr1,arr2):\n",
    "    start = process_time()\n",
    "    new_arr = arr1 + arr2\n",
    "    end = process_time()\n",
    "    total_time2 = end - start\n",
    "    #print(\"Total time:\", time)\n",
    "    #print(\"New_arr: \", new_arr)\n",
    "    arr_operator.append(total_time2)\n",
    "print(\"Arr1: \", arr1)\n",
    "print(\"Arr2: \", arr2)\n",
    "arr_operator = []\n",
    "for i in range(1000): \n",
    "    using_operator(arr1,arr2)\n",
    "total2 = 0\n",
    "for j in arr_operator:\n",
    "    total2 += j\n",
    "average2 = total2/1000\n",
    "print(len(arr_operator))\n",
    "print(\"Average: \", average2)\n",
    "print(\"Standard Deviation: \", statistics.stdev(arr_operator,average2))"
   ]
  },
  {
   "cell_type": "code",
   "execution_count": 41,
   "metadata": {
    "scrolled": false
   },
   "outputs": [
    {
     "data": {
      "image/png": "[encoded data removed]",
      "text/plain": [
       "<Figure size 432x288 with 1 Axes>"
      ]
     },
     "metadata": {
      "needs_background": "light"
     },
     "output_type": "display_data"
    }
   ],
   "source": [
    "from matplotlib import pyplot as plt\n",
    "plt.hist(arr_for_loop, bins = 100)\n",
    "plt.title(\"Using the double for loop\")\n",
    "plt.xlabel('Seconds')\n",
    "plt.ylabel('Frequencies')\n",
    "plt.show()"
   ]
  },
  {
   "cell_type": "code",
   "execution_count": 40,
   "metadata": {
    "scrolled": true
   },
   "outputs": [
    {
     "data": {
      "image/png": "[encoded data removed]",
      "text/plain": [
       "<Figure size 432x288 with 1 Axes>"
      ]
     },
     "metadata": {
      "needs_background": "light"
     },
     "output_type": "display_data"
    }
   ],
   "source": [
    "from matplotlib import pyplot as plt\n",
    "plt.hist(arr_operator, bins = 100)\n",
    "plt.xlabel('Seconds')\n",
    "plt.ylabel('Frequencies')\n",
    "plt.title(\"Using the + operator\")\n",
    "plt.show()"
   ]
  },
  {
   "cell_type": "markdown",
   "metadata": {},
   "source": [
    "The program below takes in a string as an input and checks if it is a palindrome."
   ]
  },
  {
   "cell_type": "code",
   "execution_count": 75,
   "metadata": {},
   "outputs": [
    {
     "name": "stdout",
     "output_type": "stream",
     "text": [
      "Enter a string: racecar\n",
      "Is a palindrome\n"
     ]
    }
   ],
   "source": [
    "def reverse(s): #reverses the string\n",
    "    return s[::-1]\n",
    "def palindrome(s): #checks if the string is a palindrome\n",
    "    str1 = reverse(s)\n",
    "    if (s == str1):\n",
    "        return True\n",
    "    return False\n",
    "s = input(\"Enter a string: \")\n",
    "if palindrome(s) == 1:\n",
    "    print(\"Is a palindrome\")\n",
    "else:\n",
    "    print(\"Is not a palindrome\")"
   ]
  }
 ],
 "metadata": {
  "kernelspec": {
   "display_name": "Python 3",
   "language": "python",
   "name": "python3"
  },
  "language_info": {
   "codemirror_mode": {
    "name": "ipython",
    "version": 3
   },
   "file_extension": ".py",
   "mimetype": "text/x-python",
   "name": "python",
   "nbconvert_exporter": "python",
   "pygments_lexer": "ipython3",
   "version": "3.7.6"
  }
 },
 "nbformat": 4,
 "nbformat_minor": 4
}

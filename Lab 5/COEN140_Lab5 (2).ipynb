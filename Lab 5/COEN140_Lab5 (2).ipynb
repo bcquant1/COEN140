{
 "cells": [
  {
   "cell_type": "code",
   "execution_count": 1,
   "metadata": {},
   "outputs": [],
   "source": [
    "import numpy as np\n",
    "import math"
   ]
  },
  {
   "cell_type": "code",
   "execution_count": 2,
   "metadata": {},
   "outputs": [],
   "source": [
    "training_data = np.loadtxt('crime-train.txt', delimiter = '\\t', skiprows = 1)\n",
    "testing_data = np.loadtxt('crime-test.txt', delimiter = '\\t', skiprows = 1)\n",
    "\n",
    "Xtrain = training_data[:,1:]\n",
    "arr_ones = np.ones(len(Xtrain))\n",
    "Xtrain = np.column_stack((Xtrain,arr_ones))\n",
    "Ytrain = training_data[:,0:1]\n",
    "\n",
    "Xtest = testing_data[:,1:]\n",
    "arr_ones = np.ones(len(Xtest))\n",
    "Xtest = np.column_stack((Xtest,arr_ones))\n",
    "Ytest = testing_data[:,0:1] "
   ]
  },
  {
   "cell_type": "markdown",
   "metadata": {},
   "source": [
    "# Linear Regression"
   ]
  },
  {
   "cell_type": "code",
   "execution_count": 3,
   "metadata": {},
   "outputs": [],
   "source": [
    "def linear_regression(X,Y,data):\n",
    "    w = np.dot((np.linalg.inv(np.dot(X.T,X))),(np.dot(X.T,Y)))\n",
    "    prediction_y = []\n",
    "    for x in data:\n",
    "        prediction_y.append(np.dot(x.T,w))\n",
    "    return prediction_y"
   ]
  },
  {
   "cell_type": "code",
   "execution_count": 4,
   "metadata": {},
   "outputs": [],
   "source": [
    "def RMSE_calc(prediction_y,Y):\n",
    "    difference = prediction_y - Y\n",
    "    sum = 0\n",
    "    for i in difference:\n",
    "        sum += i**2\n",
    "    RMSE = math.sqrt(sum/(len(prediction_y)))\n",
    "    return RMSE"
   ]
  },
  {
   "cell_type": "code",
   "execution_count": 5,
   "metadata": {},
   "outputs": [
    {
     "name": "stdout",
     "output_type": "stream",
     "text": [
      "RMSE_Value for training data = 0.1276896742176219\n",
      "RMSE_Value for testing data = 0.14583464490949322\n"
     ]
    }
   ],
   "source": [
    "training_predictions = linear_regression(Xtrain,Ytrain,Xtrain)\n",
    "RMSE_value = RMSE_calc(training_predictions,Ytrain)\n",
    "print(\"RMSE_Value for training data = %s\" %RMSE_value)\n",
    "\n",
    "testing_predictions = linear_regression(Xtrain,Ytrain,Xtest)\n",
    "RMSE_value = RMSE_calc(testing_predictions,Ytest)\n",
    "print(\"RMSE_Value for testing data = %s\" %RMSE_value)"
   ]
  },
  {
   "cell_type": "markdown",
   "metadata": {},
   "source": [
    "# Ridge Regression"
   ]
  },
  {
   "cell_type": "code",
   "execution_count": 6,
   "metadata": {},
   "outputs": [],
   "source": [
    "def ridge_regression(X,Y,data):\n",
    "    w = np.dot((np.linalg.inv(np.dot(X.T,X) + 100*np.identity(len(X.T)))),(np.dot(X.T,Y)))\n",
    "    prediction_y = []\n",
    "    for x in data:\n",
    "        prediction_y.append(np.dot(x.T,w))\n",
    "    return prediction_y"
   ]
  },
  {
   "cell_type": "code",
   "execution_count": 7,
   "metadata": {},
   "outputs": [
    {
     "name": "stdout",
     "output_type": "stream",
     "text": [
      "RSME_Value for training data = 0.13134320424615784\n",
      "RSME_Value for testing data = 0.14765698468526112\n"
     ]
    }
   ],
   "source": [
    "training_predictions = ridge_regression(Xtrain,Ytrain,Xtrain)\n",
    "RMSE_value = RMSE_calc(training_predictions,Ytrain)\n",
    "print(\"RSME_Value for training data = %s\" %RMSE_value)\n",
    "\n",
    "testing_predictions = ridge_regression(Xtrain,Ytrain,Xtest)\n",
    "RMSE_value = RMSE_calc(testing_predictions,Ytest)\n",
    "print(\"RSME_Value for testing data = %s\" %RMSE_value)"
   ]
  }
 ],
 "metadata": {
  "kernelspec": {
   "display_name": "Python 3",
   "language": "python",
   "name": "python3"
  },
  "language_info": {
   "codemirror_mode": {
    "name": "ipython",
    "version": 3
   },
   "file_extension": ".py",
   "mimetype": "text/x-python",
   "name": "python",
   "nbconvert_exporter": "python",
   "pygments_lexer": "ipython3",
   "version": "3.7.6"
  }
 },
 "nbformat": 4,
 "nbformat_minor": 4
}

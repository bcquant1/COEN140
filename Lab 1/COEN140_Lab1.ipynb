{
 "cells": [
  {
   "cell_type": "code",
   "execution_count": 1,
   "metadata": {
    "scrolled": true
   },
   "outputs": [
    {
     "name": "stdout",
     "output_type": "stream",
     "text": [
      "Enter a number: 24\n",
      "1 3 5 7 9 11 13 15 17 19 21 23 "
     ]
    }
   ],
   "source": [
    "def list_odd_numbers(n): #takes in argument n and returns the list of odd numbers from [0..n]\n",
    "    list_range = range(n)\n",
    "    for i in list_range:\n",
    "      if i%2 != 0:\n",
    "        print(i, end = \" \")\n",
    "\n",
    "user_input = int(input(\"Enter a number: \"))\n",
    "list_odd_numbers(user_input)"
   ]
  },
  {
   "cell_type": "markdown",
   "metadata": {},
   "source": [
    " "
   ]
  },
  {
   "cell_type": "code",
   "execution_count": 4,
   "metadata": {},
   "outputs": [
    {
     "name": "stdout",
     "output_type": "stream",
     "text": [
      "Enter the csv file: students.csv\n",
      "Sorting by name\n",
      "Daniel,21,MECH\n",
      "\n",
      "Joe,22,BIOE\n",
      "\n",
      "Mike,22,COEN\n",
      "\n",
      "Ryan,19,ELEN\n",
      "\n",
      "Shannon,22,AMTH\n",
      "\n"
     ]
    }
   ],
   "source": [
    "def sorting_name(file_name): #takes in the csv file and sorts the list by first name\n",
    "    f = open(file_name,\"r\")\n",
    "    sorted_name = sorted(f)\n",
    "    print(\"Sorting by name\")\n",
    "    for line in sorted_name:\n",
    "        print(line)\n",
    "    f.close()\n",
    "file_name = input(\"Enter the csv file: \")\n",
    "sorting_name(file_name)"
   ]
  },
  {
   "cell_type": "code",
   "execution_count": 6,
   "metadata": {},
   "outputs": [
    {
     "name": "stdout",
     "output_type": "stream",
     "text": [
      "Enter the csv file: students.csv\n",
      "Sorting by age\n",
      "['Ryan', '19', 'ELEN']\n",
      "['Daniel', '21', 'MECH']\n",
      "['Shannon', '22', 'AMTH']\n",
      "['Mike', '22', 'COEN']\n",
      "['Joe', '22', 'BIOE']\n"
     ]
    }
   ],
   "source": [
    "import csv\n",
    "import operator\n",
    "from operator import itemgetter\n",
    "def sorting_age(file_name): #takes in the csv file and sorts by age\n",
    "    with open(file_name, \"r\") as file:\n",
    "        sorted_age = [line for line in csv.reader(file)]\n",
    "    sorted_age = sorted(sorted_age, key = itemgetter(1))\n",
    "    print(\"Sorting by age\")\n",
    "    for line in sorted_age:\n",
    "        print(line)\n",
    "file_name = input(\"Enter the csv file: \")\n",
    "sorting_age(file_name)"
   ]
  },
  {
   "cell_type": "code",
   "execution_count": 8,
   "metadata": {},
   "outputs": [
    {
     "name": "stdout",
     "output_type": "stream",
     "text": [
      "Enter a string: google.com\n",
      "o\n",
      " \n"
     ]
    },
    {
     "data": {
      "text/plain": [
       "('o', 3)"
      ]
     },
     "execution_count": 8,
     "metadata": {},
     "output_type": "execute_result"
    }
   ],
   "source": [
    "def frequency(str1): #counts the number of times all characters appear in the string and outputs the most frequent character\n",
    "    dict = {}\n",
    "    for i in str1:\n",
    "        keys = dict.keys()\n",
    "        if i in keys:\n",
    "            dict[i] += 1\n",
    "        else:\n",
    "            dict[i] = 1\n",
    "    max = -1\n",
    "    for i in dict:\n",
    "        if dict[i] > max:\n",
    "            max = dict[i]\n",
    "            max_letter = i\n",
    "    print(max_letter)\n",
    "    print(\" \")\n",
    "    return max_letter, max\n",
    "string1 = input(\"Enter a string: \")\n",
    "frequency(string1)"
   ]
  },
  {
   "cell_type": "code",
   "execution_count": 10,
   "metadata": {},
   "outputs": [
    {
     "name": "stdout",
     "output_type": "stream",
     "text": [
      "Enter a number: 3\n",
      "Factorial of 3 is 6\n"
     ]
    }
   ],
   "source": [
    "import math\n",
    "def factorial(num): #takes in a number and calcuates the factorial of that number\n",
    "    factorial = math.factorial(num)\n",
    "    print(\"Factorial of \" + str(num) + \" is \" + str(factorial))\n",
    "num = int(input(\"Enter a number: \"))\n",
    "factorial(num)"
   ]
  },
  {
   "cell_type": "code",
   "execution_count": null,
   "metadata": {},
   "outputs": [],
   "source": []
  }
 ],
 "metadata": {
  "kernelspec": {
   "display_name": "Python 3",
   "language": "python",
   "name": "python3"
  },
  "language_info": {
   "codemirror_mode": {
    "name": "ipython",
    "version": 3
   },
   "file_extension": ".py",
   "mimetype": "text/x-python",
   "name": "python",
   "nbconvert_exporter": "python",
   "pygments_lexer": "ipython3",
   "version": "3.7.6"
  }
 },
 "nbformat": 4,
 "nbformat_minor": 4
}

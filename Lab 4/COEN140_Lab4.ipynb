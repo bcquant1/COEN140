{
 "cells": [
  {
   "cell_type": "code",
   "execution_count": 1,
   "metadata": {
    "scrolled": true
   },
   "outputs": [],
   "source": [
    "from time import process_time\n",
    "import numpy as np\n",
    "import math\n",
    "\n",
    "with open('data.txt', 'r') as data:\n",
    "    data = data.read().splitlines()\n",
    "data = np.array([tuple(line.split(',')) for line in data])\n",
    "        \n",
    "iris_data = np.zeros((150,4))\n",
    "\n",
    "for row in range(150):\n",
    "    for col in range(4):\n",
    "        iris_data[row,col] = float(data[row,col])\n",
    "iris_data = iris_data.T"
   ]
  },
  {
   "cell_type": "code",
   "execution_count": 2,
   "metadata": {
    "scrolled": true
   },
   "outputs": [],
   "source": [
    "setosa_training = iris_data[0:4,0:40]\n",
    "setosa_testing = iris_data[0:4,40:50]\n",
    "\n",
    "versi_training = iris_data[0:4,50:90]\n",
    "versi_testing = iris_data[0:4,90:100]\n",
    "\n",
    "virginica_training = iris_data[0:4,100:140]\n",
    "virginica_testing = iris_data[0:4,140:150]\n",
    "\n",
    "training_data = setosa_training\n",
    "training_data = np.concatenate((training_data,versi_training),axis = 1)\n",
    "training_data = np.concatenate((training_data,virginica_training),axis = 1)\n",
    "\n",
    "testing_data = setosa_testing\n",
    "testing_data = np.concatenate((testing_data,versi_testing),axis = 1)\n",
    "testing_data = np.concatenate((testing_data,virginica_testing),axis = 1)"
   ]
  },
  {
   "cell_type": "code",
   "execution_count": 3,
   "metadata": {},
   "outputs": [
    {
     "name": "stdout",
     "output_type": "stream",
     "text": [
      "Setosa Mu:\n",
      "[[5.0375]\n",
      " [3.44  ]\n",
      " [1.4625]\n",
      " [0.2325]]\n",
      "Versi Mu:\n",
      "[[6.01  ]\n",
      " [2.78  ]\n",
      " [4.3175]\n",
      " [1.35  ]]\n",
      "Virginica Mu:\n",
      "[[6.6225]\n",
      " [2.96  ]\n",
      " [5.6075]\n",
      " [1.99  ]]\n"
     ]
    }
   ],
   "source": [
    "setosa_mu = np.array([np.sum(setosa_training, axis = 1)]).T/40\n",
    "versi_mu = np.array([np.sum(versi_training, axis = 1)]).T/40\n",
    "virginica_mu = np.array([np.sum(virginica_training, axis = 1)]).T/40\n",
    "\n",
    "print(\"Setosa Mu:\");\n",
    "print(setosa_mu);\n",
    "print(\"Versi Mu:\");\n",
    "print(versi_mu);\n",
    "print(\"Virginica Mu:\")\n",
    "print(virginica_mu);"
   ]
  },
  {
   "cell_type": "code",
   "execution_count": 4,
   "metadata": {},
   "outputs": [
    {
     "name": "stdout",
     "output_type": "stream",
     "text": [
      "Setosa Sigma\n",
      "[[0.12784375 0.0965     0.01265625 0.01328125]\n",
      " [0.0965     0.1294     0.002      0.0142    ]\n",
      " [0.01265625 0.002      0.02884375 0.00446875]\n",
      " [0.01328125 0.0142     0.00446875 0.00969375]]\n",
      "Versi Sigma\n",
      "[[0.2669     0.08445    0.167825   0.051     ]\n",
      " [0.08445    0.1081     0.07885    0.04425   ]\n",
      " [0.167825   0.07885    0.19844375 0.071875  ]\n",
      " [0.051      0.04425    0.071875   0.042     ]]\n",
      "Virginica Sigma\n",
      "[[0.45624375 0.10765    0.34883125 0.049975  ]\n",
      " [0.10765    0.1104     0.07905    0.0451    ]\n",
      " [0.34883125 0.07905    0.33669375 0.057825  ]\n",
      " [0.049975   0.0451     0.057825   0.0724    ]]\n",
      "LDA Sigma\n",
      "[[0.2836625  0.0962     0.1764375  0.03808542]\n",
      " [0.0962     0.11596667 0.0533     0.03451667]\n",
      " [0.1764375  0.0533     0.18799375 0.04472292]\n",
      " [0.03808542 0.03451667 0.04472292 0.04136458]]\n"
     ]
    }
   ],
   "source": [
    "setosa_E = np.matmul((setosa_training-setosa_mu),(setosa_training-setosa_mu).T)/40\n",
    "versi_E = np.matmul((versi_training-versi_mu),(versi_training-versi_mu).T)/40\n",
    "virginica_E = np.matmul((virginica_training-virginica_mu),(virginica_training-virginica_mu).T)/40\n",
    "print(\"Setosa Sigma\")\n",
    "print(setosa_E)\n",
    "print(\"Versi Sigma\")\n",
    "print(versi_E)\n",
    "print(\"Virginica Sigma\")\n",
    "print(virginica_E)\n",
    "\n",
    "LDA_E = (setosa_E + versi_E + virginica_E)/3\n",
    "print(\"LDA Sigma\")\n",
    "print(LDA_E)"
   ]
  },
  {
   "cell_type": "code",
   "execution_count": 5,
   "metadata": {},
   "outputs": [],
   "source": [
    "def gaussian(E, data, mu, i, k):\n",
    "    return (1 / ((2 * math.pi)**2 * np.linalg.det(E))**(1 / 2)) * math.exp((-1/2) * np.matmul(np.matmul(data[0:k, i] - mu.T, np.linalg.inv(E)), (data[0:k, i] - mu.T).T))"
   ]
  },
  {
   "cell_type": "code",
   "execution_count": 6,
   "metadata": {},
   "outputs": [],
   "source": [
    "def QDA_training_population(setosa_E,versi_E,virginica_E, data, setosa_mu, versi_mu, virginica_mu, k):\n",
    "    QDA_training_classification = []\n",
    "    for i in range(120):\n",
    "        prob1 = gaussian(setosa_E, data, setosa_mu, i, k)\n",
    "        prob2 = gaussian(versi_E, data, versi_mu, i, k)\n",
    "        prob3 = gaussian(virginica_E, data, virginica_mu, i, k)\n",
    "        if max(prob1,prob2,prob3) == prob1:\n",
    "            QDA_training_classification.append('Iris-setosa')\n",
    "        if max(prob1,prob2,prob3) == prob2:\n",
    "            QDA_training_classification.append('Iris-versicolor')\n",
    "        if max(prob1,prob2,prob3) == prob3:\n",
    "            QDA_training_classification.append('Iris-virginica')\n",
    "    print(\"QDA_training_classification\")\n",
    "    print(QDA_training_classification)\n",
    "    return(QDA_training_classification)\n",
    "\n",
    "def QDA_testing_population(setosa_E,versi_E,virginica_E, data, setosa_mu, versi_mu, virginica_mu, k):\n",
    "    QDA_testing_classification = []\n",
    "    for i in range(30):\n",
    "        prob1 = gaussian(setosa_E, data, setosa_mu, i, k)\n",
    "        prob2 = gaussian(versi_E, data, versi_mu, i, k)\n",
    "        prob3 = gaussian(virginica_E, data, virginica_mu, i, k)\n",
    "        if max(prob1,prob2,prob3) == prob1:\n",
    "            QDA_testing_classification.append('Iris-setosa')\n",
    "        if max(prob1,prob2,prob3) == prob2:\n",
    "            QDA_testing_classification.append('Iris-versicolor')\n",
    "        if max(prob1,prob2,prob3) == prob3:\n",
    "            QDA_testing_classification.append('Iris-virginica')\n",
    "    print(\"QDA_testing_classification\")\n",
    "    print(QDA_testing_classification)\n",
    "    return(QDA_testing_classification)"
   ]
  },
  {
   "cell_type": "code",
   "execution_count": 7,
   "metadata": {},
   "outputs": [],
   "source": [
    "def LDA_training_population(LDA_E, data, setosa_mu, versi_mu, virginica_mu, k):\n",
    "    LDA_training_classification = []\n",
    "    for i in range(120):\n",
    "        prob1 = gaussian(LDA_E, data, setosa_mu, i, k)\n",
    "        prob2 = gaussian(LDA_E, data, versi_mu, i, k)\n",
    "        prob3 = gaussian(LDA_E, data, virginica_mu, i, k)\n",
    "        if max(prob1,prob2,prob3) == prob1:\n",
    "            LDA_training_classification.append('Iris-setosa')\n",
    "        if max(prob1,prob2,prob3) == prob2:\n",
    "            LDA_training_classification.append('Iris-versicolor')\n",
    "        if max(prob1,prob2,prob3) == prob3:\n",
    "            LDA_training_classification.append('Iris-virginica')\n",
    "    print(\"LDA_training_classification\")\n",
    "    print(LDA_training_classification)\n",
    "    return(LDA_training_classification)\n",
    "\n",
    "def LDA_testing_population(LDA_E, data, setosa_mu, versi_mu, virginica_mu, k):\n",
    "    LDA_testing_classification = []\n",
    "    for i in range(30):\n",
    "        prob1 = gaussian(LDA_E, data, setosa_mu, i, k)\n",
    "        prob2 = gaussian(LDA_E, data, versi_mu, i, k)\n",
    "        prob3 = gaussian(LDA_E, data, virginica_mu, i, k)\n",
    "        if max(prob1,prob2,prob3) == prob1:\n",
    "            LDA_testing_classification.append('Iris-setosa')\n",
    "        if max(prob1,prob2,prob3) == prob2:\n",
    "            LDA_testing_classification.append('Iris-versicolor')\n",
    "        if max(prob1,prob2,prob3) == prob3:\n",
    "            LDA_testing_classification.append('Iris-virginica')\n",
    "    print(\"LDA_testing_classification\")\n",
    "    print(LDA_testing_classification)\n",
    "    return(LDA_testing_classification)"
   ]
  },
  {
   "cell_type": "code",
   "execution_count": 8,
   "metadata": {},
   "outputs": [],
   "source": [
    "def training_error_count(data):\n",
    "    errorcount = 0\n",
    "    for i in range(40):\n",
    "        if data[i] != 'Iris-setosa':\n",
    "            print(\"%s at element %s should have been Iris-setosa\" %(data[i], i))\n",
    "            errorcount = errorcount + 1\n",
    "    for i in range(40,80):\n",
    "        if data[i] != 'Iris-versicolor':\n",
    "            print(\"%s at element %s should have been Iris-versicolor\" %(data[i], i))\n",
    "            errorcount = errorcount + 1\n",
    "    for i in range(80,120):\n",
    "        if data[i] != 'Iris-virginica':\n",
    "            print(\"%s at element %s should have been Iris-virginica\" %(data[i], i))\n",
    "            errorcount = errorcount + 1\n",
    "    return errorcount\n",
    "\n",
    "def testing_error_count(data):    \n",
    "    errorcount = 0\n",
    "    for i in range(10):\n",
    "        if data[i] != 'Iris-setosa':\n",
    "            print(\"%s at element %s should have been Iris-setosa\" %(data[i], i))\n",
    "            errorcount = errorcount + 1\n",
    "    for i in range(10,20):\n",
    "        if data[i] != 'Iris-versicolor':\n",
    "            print(\"%s at element %s should have been Iris-versicolor\" %(data[i], i))\n",
    "            errorcount = errorcount + 1\n",
    "    for i in range(20,30):\n",
    "        if data[i] != 'Iris-virginica':\n",
    "            print(\"%s at element %s should have been Iris-virginica\" %(data[i], i))\n",
    "            errorcount = errorcount + 1\n",
    "    return errorcount\n"
   ]
  },
  {
   "cell_type": "code",
   "execution_count": 9,
   "metadata": {},
   "outputs": [
    {
     "name": "stdout",
     "output_type": "stream",
     "text": [
      "QDA_training_classification\n",
      "['Iris-setosa', 'Iris-setosa', 'Iris-setosa', 'Iris-setosa', 'Iris-setosa', 'Iris-setosa', 'Iris-setosa', 'Iris-setosa', 'Iris-setosa', 'Iris-setosa', 'Iris-setosa', 'Iris-setosa', 'Iris-setosa', 'Iris-setosa', 'Iris-setosa', 'Iris-setosa', 'Iris-setosa', 'Iris-setosa', 'Iris-setosa', 'Iris-setosa', 'Iris-setosa', 'Iris-setosa', 'Iris-setosa', 'Iris-setosa', 'Iris-setosa', 'Iris-setosa', 'Iris-setosa', 'Iris-setosa', 'Iris-setosa', 'Iris-setosa', 'Iris-setosa', 'Iris-setosa', 'Iris-setosa', 'Iris-setosa', 'Iris-setosa', 'Iris-setosa', 'Iris-setosa', 'Iris-setosa', 'Iris-setosa', 'Iris-setosa', 'Iris-versicolor', 'Iris-versicolor', 'Iris-versicolor', 'Iris-versicolor', 'Iris-versicolor', 'Iris-versicolor', 'Iris-versicolor', 'Iris-versicolor', 'Iris-versicolor', 'Iris-versicolor', 'Iris-versicolor', 'Iris-versicolor', 'Iris-versicolor', 'Iris-versicolor', 'Iris-versicolor', 'Iris-versicolor', 'Iris-versicolor', 'Iris-versicolor', 'Iris-versicolor', 'Iris-versicolor', 'Iris-virginica', 'Iris-versicolor', 'Iris-versicolor', 'Iris-versicolor', 'Iris-versicolor', 'Iris-versicolor', 'Iris-versicolor', 'Iris-versicolor', 'Iris-versicolor', 'Iris-versicolor', 'Iris-versicolor', 'Iris-versicolor', 'Iris-versicolor', 'Iris-virginica', 'Iris-versicolor', 'Iris-versicolor', 'Iris-versicolor', 'Iris-versicolor', 'Iris-versicolor', 'Iris-versicolor', 'Iris-virginica', 'Iris-virginica', 'Iris-virginica', 'Iris-virginica', 'Iris-virginica', 'Iris-virginica', 'Iris-virginica', 'Iris-virginica', 'Iris-virginica', 'Iris-virginica', 'Iris-virginica', 'Iris-virginica', 'Iris-virginica', 'Iris-virginica', 'Iris-virginica', 'Iris-virginica', 'Iris-virginica', 'Iris-virginica', 'Iris-virginica', 'Iris-virginica', 'Iris-virginica', 'Iris-virginica', 'Iris-virginica', 'Iris-virginica', 'Iris-virginica', 'Iris-virginica', 'Iris-virginica', 'Iris-virginica', 'Iris-virginica', 'Iris-virginica', 'Iris-virginica', 'Iris-virginica', 'Iris-virginica', 'Iris-virginica', 'Iris-virginica', 'Iris-virginica', 'Iris-virginica', 'Iris-virginica', 'Iris-virginica', 'Iris-virginica']\n",
      "\n",
      "Total Time:\n",
      "0.01594899999999999\n"
     ]
    }
   ],
   "source": [
    "start = process_time()\n",
    "QDA_all_training = []\n",
    "QDA_all_training = QDA_training_population(setosa_E,versi_E,virginica_E, training_data, setosa_mu, versi_mu, virginica_mu, 4)\n",
    "end = process_time()\n",
    "total_time_reg = end - start\n",
    "print(\"\\nTotal Time:\")\n",
    "print(total_time_reg)   "
   ]
  },
  {
   "cell_type": "code",
   "execution_count": 10,
   "metadata": {
    "scrolled": false
   },
   "outputs": [
    {
     "name": "stdout",
     "output_type": "stream",
     "text": [
      "Iris-virginica at element 60 should have been Iris-versicolor\n",
      "Iris-virginica at element 73 should have been Iris-versicolor\n",
      "Error Rate for QDA Training Data: 0.016666666666666666\n"
     ]
    }
   ],
   "source": [
    "print(\"Error Rate for QDA Training Data: %s\" %(training_error_count(QDA_all_training)/120))\n"
   ]
  },
  {
   "cell_type": "code",
   "execution_count": 11,
   "metadata": {},
   "outputs": [
    {
     "name": "stdout",
     "output_type": "stream",
     "text": [
      "QDA_testing_classification\n",
      "['Iris-setosa', 'Iris-setosa', 'Iris-setosa', 'Iris-setosa', 'Iris-setosa', 'Iris-setosa', 'Iris-setosa', 'Iris-setosa', 'Iris-setosa', 'Iris-setosa', 'Iris-versicolor', 'Iris-versicolor', 'Iris-versicolor', 'Iris-versicolor', 'Iris-versicolor', 'Iris-versicolor', 'Iris-versicolor', 'Iris-versicolor', 'Iris-versicolor', 'Iris-versicolor', 'Iris-virginica', 'Iris-virginica', 'Iris-virginica', 'Iris-virginica', 'Iris-virginica', 'Iris-virginica', 'Iris-virginica', 'Iris-virginica', 'Iris-virginica', 'Iris-virginica']\n"
     ]
    }
   ],
   "source": [
    "QDA_all_testing = []\n",
    "QDA_all_testing = QDA_testing_population(setosa_E,versi_E,virginica_E, testing_data, setosa_mu, versi_mu, virginica_mu, 4)\n"
   ]
  },
  {
   "cell_type": "code",
   "execution_count": 12,
   "metadata": {},
   "outputs": [
    {
     "name": "stdout",
     "output_type": "stream",
     "text": [
      "Error Rate for QDA Testing Data: 0.0\n"
     ]
    }
   ],
   "source": [
    "print(\"Error Rate for QDA Testing Data: %s\" %(testing_error_count(QDA_all_testing)/30))\n",
    "\n"
   ]
  },
  {
   "cell_type": "code",
   "execution_count": 13,
   "metadata": {},
   "outputs": [
    {
     "name": "stdout",
     "output_type": "stream",
     "text": [
      "LDA_training_classification\n",
      "['Iris-setosa', 'Iris-setosa', 'Iris-setosa', 'Iris-setosa', 'Iris-setosa', 'Iris-setosa', 'Iris-setosa', 'Iris-setosa', 'Iris-setosa', 'Iris-setosa', 'Iris-setosa', 'Iris-setosa', 'Iris-setosa', 'Iris-setosa', 'Iris-setosa', 'Iris-setosa', 'Iris-setosa', 'Iris-setosa', 'Iris-setosa', 'Iris-setosa', 'Iris-setosa', 'Iris-setosa', 'Iris-setosa', 'Iris-setosa', 'Iris-setosa', 'Iris-setosa', 'Iris-setosa', 'Iris-setosa', 'Iris-setosa', 'Iris-setosa', 'Iris-setosa', 'Iris-setosa', 'Iris-setosa', 'Iris-setosa', 'Iris-setosa', 'Iris-setosa', 'Iris-setosa', 'Iris-setosa', 'Iris-setosa', 'Iris-setosa', 'Iris-versicolor', 'Iris-versicolor', 'Iris-versicolor', 'Iris-versicolor', 'Iris-versicolor', 'Iris-versicolor', 'Iris-versicolor', 'Iris-versicolor', 'Iris-versicolor', 'Iris-versicolor', 'Iris-versicolor', 'Iris-versicolor', 'Iris-versicolor', 'Iris-versicolor', 'Iris-versicolor', 'Iris-versicolor', 'Iris-versicolor', 'Iris-versicolor', 'Iris-versicolor', 'Iris-versicolor', 'Iris-virginica', 'Iris-versicolor', 'Iris-versicolor', 'Iris-versicolor', 'Iris-versicolor', 'Iris-versicolor', 'Iris-versicolor', 'Iris-versicolor', 'Iris-versicolor', 'Iris-versicolor', 'Iris-versicolor', 'Iris-versicolor', 'Iris-versicolor', 'Iris-virginica', 'Iris-versicolor', 'Iris-versicolor', 'Iris-versicolor', 'Iris-versicolor', 'Iris-versicolor', 'Iris-versicolor', 'Iris-virginica', 'Iris-virginica', 'Iris-virginica', 'Iris-virginica', 'Iris-virginica', 'Iris-virginica', 'Iris-virginica', 'Iris-virginica', 'Iris-virginica', 'Iris-virginica', 'Iris-virginica', 'Iris-virginica', 'Iris-virginica', 'Iris-virginica', 'Iris-virginica', 'Iris-virginica', 'Iris-virginica', 'Iris-virginica', 'Iris-virginica', 'Iris-virginica', 'Iris-virginica', 'Iris-virginica', 'Iris-virginica', 'Iris-virginica', 'Iris-virginica', 'Iris-virginica', 'Iris-virginica', 'Iris-virginica', 'Iris-virginica', 'Iris-virginica', 'Iris-virginica', 'Iris-virginica', 'Iris-virginica', 'Iris-versicolor', 'Iris-virginica', 'Iris-virginica', 'Iris-virginica', 'Iris-virginica', 'Iris-virginica', 'Iris-virginica']\n"
     ]
    }
   ],
   "source": [
    "LDA_all_training = []\n",
    "LDA_all_training = LDA_training_population(LDA_E, training_data, setosa_mu, versi_mu, virginica_mu, 4)\n"
   ]
  },
  {
   "cell_type": "code",
   "execution_count": 14,
   "metadata": {},
   "outputs": [
    {
     "name": "stdout",
     "output_type": "stream",
     "text": [
      "Iris-virginica at element 60 should have been Iris-versicolor\n",
      "Iris-virginica at element 73 should have been Iris-versicolor\n",
      "Iris-versicolor at element 113 should have been Iris-virginica\n",
      "Error Rate for LDA Training Data: 0.025\n"
     ]
    }
   ],
   "source": [
    "print(\"Error Rate for LDA Training Data: %s\" %(training_error_count(LDA_all_training)/120))\n"
   ]
  },
  {
   "cell_type": "code",
   "execution_count": 15,
   "metadata": {},
   "outputs": [
    {
     "name": "stdout",
     "output_type": "stream",
     "text": [
      "LDA_testing_classification\n",
      "['Iris-setosa', 'Iris-setosa', 'Iris-setosa', 'Iris-setosa', 'Iris-setosa', 'Iris-setosa', 'Iris-setosa', 'Iris-setosa', 'Iris-setosa', 'Iris-setosa', 'Iris-versicolor', 'Iris-versicolor', 'Iris-versicolor', 'Iris-versicolor', 'Iris-versicolor', 'Iris-versicolor', 'Iris-versicolor', 'Iris-versicolor', 'Iris-versicolor', 'Iris-versicolor', 'Iris-virginica', 'Iris-virginica', 'Iris-virginica', 'Iris-virginica', 'Iris-virginica', 'Iris-virginica', 'Iris-virginica', 'Iris-virginica', 'Iris-virginica', 'Iris-virginica']\n"
     ]
    }
   ],
   "source": [
    "LDA_all_testing = []\n",
    "LDA_all_testing = LDA_testing_population(LDA_E, testing_data, setosa_mu, versi_mu, virginica_mu, 4)\n"
   ]
  },
  {
   "cell_type": "code",
   "execution_count": 16,
   "metadata": {},
   "outputs": [
    {
     "name": "stdout",
     "output_type": "stream",
     "text": [
      "Error Rate for LDA Testing Data: 0.0\n"
     ]
    }
   ],
   "source": [
    "print(\"Error Rate for LDA Testing Data: %s\" %(testing_error_count(LDA_all_testing)/30))\n",
    "\n"
   ]
  },
  {
   "cell_type": "markdown",
   "metadata": {},
   "source": [
    "# Removing Sepal Length"
   ]
  },
  {
   "cell_type": "code",
   "execution_count": 17,
   "metadata": {
    "scrolled": true
   },
   "outputs": [],
   "source": [
    "training_data_noSl = training_data[1:4]\n",
    "#print(\"Training No SL\")\n",
    "#print(training_data_noSl)\n",
    "\n",
    "testing_data_noSl = testing_data[1:4]\n",
    "#print(\"Testing No SL\")\n",
    "#print(testing_data_noSl)"
   ]
  },
  {
   "cell_type": "code",
   "execution_count": 18,
   "metadata": {
    "scrolled": true
   },
   "outputs": [],
   "source": [
    "setosa_training_noSl = setosa_training[1:4]\n",
    "setosa_testing_noSl = setosa_testing[1:4]\n",
    "\n",
    "versi_training_noSl = versi_training[1:4]\n",
    "versi_testing_noSl = versi_testing[1:4]\n",
    "\n",
    "virginica_training_noSl = virginica_training[1:4]\n",
    "virginica_testing_noSl = virginica_training[1:4]"
   ]
  },
  {
   "cell_type": "code",
   "execution_count": 19,
   "metadata": {},
   "outputs": [
    {
     "name": "stdout",
     "output_type": "stream",
     "text": [
      "Setosa Mu:\n",
      "[[3.44  ]\n",
      " [1.4625]\n",
      " [0.2325]]\n",
      "Versi Mu:\n",
      "[[2.78  ]\n",
      " [4.3175]\n",
      " [1.35  ]]\n",
      "Virginica Mu:\n",
      "[[2.96  ]\n",
      " [5.6075]\n",
      " [1.99  ]]\n"
     ]
    }
   ],
   "source": [
    "setosa_mu_noSl = np.array([np.sum(setosa_training_noSl, axis = 1)]).T/40\n",
    "versi_mu_noSl = np.array([np.sum(versi_training_noSl, axis = 1)]).T/40\n",
    "virginica_mu_noSl = np.array([np.sum(virginica_training_noSl, axis = 1)]).T/40\n",
    "\n",
    "print(\"Setosa Mu:\");\n",
    "print(setosa_mu_noSl);\n",
    "print(\"Versi Mu:\");\n",
    "print(versi_mu_noSl);\n",
    "print(\"Virginica Mu:\")\n",
    "print(virginica_mu_noSl);"
   ]
  },
  {
   "cell_type": "code",
   "execution_count": 20,
   "metadata": {},
   "outputs": [
    {
     "name": "stdout",
     "output_type": "stream",
     "text": [
      "Setosa Sigma\n",
      "[[0.1294     0.002      0.0142    ]\n",
      " [0.002      0.02884375 0.00446875]\n",
      " [0.0142     0.00446875 0.00969375]]\n",
      "Versi Sigma\n",
      "[[0.1081     0.07885    0.04425   ]\n",
      " [0.07885    0.19844375 0.071875  ]\n",
      " [0.04425    0.071875   0.042     ]]\n",
      "Virginica Sigma\n",
      "[[0.1104     0.07905    0.0451    ]\n",
      " [0.07905    0.33669375 0.057825  ]\n",
      " [0.0451     0.057825   0.0724    ]]\n",
      "LDA Sigma\n",
      "[[0.11596667 0.0533     0.03451667]\n",
      " [0.0533     0.18799375 0.04472292]\n",
      " [0.03451667 0.04472292 0.04136458]]\n"
     ]
    }
   ],
   "source": [
    "setosa_E_noSl = np.matmul((setosa_training_noSl-setosa_mu_noSl),(setosa_training_noSl-setosa_mu_noSl).T)/40\n",
    "versi_E_noSl = np.matmul((versi_training_noSl-versi_mu_noSl),(versi_training_noSl-versi_mu_noSl).T)/40\n",
    "virginica_E_noSl = np.matmul((virginica_training_noSl-virginica_mu_noSl),(virginica_training_noSl-virginica_mu_noSl).T)/40\n",
    "print(\"Setosa Sigma\")\n",
    "print(setosa_E_noSl)\n",
    "print(\"Versi Sigma\")\n",
    "print(versi_E_noSl)\n",
    "print(\"Virginica Sigma\")\n",
    "print(virginica_E_noSl)\n",
    "\n",
    "LDA_E_noSl = (setosa_E_noSl + versi_E_noSl + virginica_E_noSl)/3\n",
    "print(\"LDA Sigma\")\n",
    "print(LDA_E_noSl)"
   ]
  },
  {
   "cell_type": "code",
   "execution_count": 21,
   "metadata": {},
   "outputs": [
    {
     "name": "stdout",
     "output_type": "stream",
     "text": [
      "QDA_training_classification\n",
      "['Iris-setosa', 'Iris-setosa', 'Iris-setosa', 'Iris-setosa', 'Iris-setosa', 'Iris-setosa', 'Iris-setosa', 'Iris-setosa', 'Iris-setosa', 'Iris-setosa', 'Iris-setosa', 'Iris-setosa', 'Iris-setosa', 'Iris-setosa', 'Iris-setosa', 'Iris-setosa', 'Iris-setosa', 'Iris-setosa', 'Iris-setosa', 'Iris-setosa', 'Iris-setosa', 'Iris-setosa', 'Iris-setosa', 'Iris-setosa', 'Iris-setosa', 'Iris-setosa', 'Iris-setosa', 'Iris-setosa', 'Iris-setosa', 'Iris-setosa', 'Iris-setosa', 'Iris-setosa', 'Iris-setosa', 'Iris-setosa', 'Iris-setosa', 'Iris-setosa', 'Iris-setosa', 'Iris-setosa', 'Iris-setosa', 'Iris-setosa', 'Iris-versicolor', 'Iris-versicolor', 'Iris-versicolor', 'Iris-versicolor', 'Iris-versicolor', 'Iris-versicolor', 'Iris-versicolor', 'Iris-versicolor', 'Iris-versicolor', 'Iris-versicolor', 'Iris-versicolor', 'Iris-versicolor', 'Iris-versicolor', 'Iris-versicolor', 'Iris-versicolor', 'Iris-versicolor', 'Iris-versicolor', 'Iris-versicolor', 'Iris-virginica', 'Iris-versicolor', 'Iris-versicolor', 'Iris-versicolor', 'Iris-versicolor', 'Iris-versicolor', 'Iris-versicolor', 'Iris-versicolor', 'Iris-versicolor', 'Iris-versicolor', 'Iris-versicolor', 'Iris-versicolor', 'Iris-versicolor', 'Iris-versicolor', 'Iris-versicolor', 'Iris-virginica', 'Iris-versicolor', 'Iris-versicolor', 'Iris-versicolor', 'Iris-versicolor', 'Iris-versicolor', 'Iris-versicolor', 'Iris-virginica', 'Iris-virginica', 'Iris-virginica', 'Iris-virginica', 'Iris-virginica', 'Iris-virginica', 'Iris-virginica', 'Iris-virginica', 'Iris-virginica', 'Iris-virginica', 'Iris-virginica', 'Iris-virginica', 'Iris-virginica', 'Iris-virginica', 'Iris-virginica', 'Iris-virginica', 'Iris-virginica', 'Iris-virginica', 'Iris-virginica', 'Iris-virginica', 'Iris-virginica', 'Iris-virginica', 'Iris-virginica', 'Iris-virginica', 'Iris-virginica', 'Iris-virginica', 'Iris-virginica', 'Iris-virginica', 'Iris-virginica', 'Iris-virginica', 'Iris-virginica', 'Iris-virginica', 'Iris-virginica', 'Iris-versicolor', 'Iris-virginica', 'Iris-virginica', 'Iris-virginica', 'Iris-virginica', 'Iris-virginica', 'Iris-virginica']\n"
     ]
    }
   ],
   "source": [
    "QDA_noSl_training = []\n",
    "QDA_noSl_training = QDA_training_population(setosa_E_noSl,versi_E_noSl,virginica_E_noSl, training_data_noSl, setosa_mu_noSl, versi_mu_noSl, virginica_mu_noSl, 3)\n"
   ]
  },
  {
   "cell_type": "code",
   "execution_count": 22,
   "metadata": {},
   "outputs": [
    {
     "name": "stdout",
     "output_type": "stream",
     "text": [
      "Iris-virginica at element 58 should have been Iris-versicolor\n",
      "Iris-virginica at element 73 should have been Iris-versicolor\n",
      "Iris-versicolor at element 113 should have been Iris-virginica\n",
      "Error Rate for QDA Training Data No Sl: 0.025\n"
     ]
    }
   ],
   "source": [
    "print(\"Error Rate for QDA Training Data No Sl: %s\" %(training_error_count(QDA_noSl_training)/120))\n"
   ]
  },
  {
   "cell_type": "code",
   "execution_count": 23,
   "metadata": {},
   "outputs": [
    {
     "name": "stdout",
     "output_type": "stream",
     "text": [
      "QDA_testing_classification\n",
      "['Iris-setosa', 'Iris-setosa', 'Iris-setosa', 'Iris-setosa', 'Iris-setosa', 'Iris-setosa', 'Iris-setosa', 'Iris-setosa', 'Iris-setosa', 'Iris-setosa', 'Iris-versicolor', 'Iris-versicolor', 'Iris-versicolor', 'Iris-versicolor', 'Iris-versicolor', 'Iris-versicolor', 'Iris-versicolor', 'Iris-versicolor', 'Iris-versicolor', 'Iris-versicolor', 'Iris-virginica', 'Iris-virginica', 'Iris-virginica', 'Iris-virginica', 'Iris-virginica', 'Iris-virginica', 'Iris-virginica', 'Iris-virginica', 'Iris-virginica', 'Iris-virginica']\n"
     ]
    }
   ],
   "source": [
    "QDA_noSl_testing = []\n",
    "QDA_noSl_testing = QDA_testing_population(setosa_E_noSl,versi_E_noSl,virginica_E_noSl, testing_data_noSl, setosa_mu_noSl, versi_mu_noSl, virginica_mu_noSl, 3)\n"
   ]
  },
  {
   "cell_type": "code",
   "execution_count": 24,
   "metadata": {},
   "outputs": [
    {
     "name": "stdout",
     "output_type": "stream",
     "text": [
      "Error Rate for QDA Testing Data No Sl: 0.0\n"
     ]
    }
   ],
   "source": [
    "print(\"Error Rate for QDA Testing Data No Sl: %s\" %(testing_error_count(QDA_noSl_testing)/30))\n",
    "\n"
   ]
  },
  {
   "cell_type": "code",
   "execution_count": 25,
   "metadata": {},
   "outputs": [
    {
     "name": "stdout",
     "output_type": "stream",
     "text": [
      "LDA_training_classification\n",
      "['Iris-setosa', 'Iris-setosa', 'Iris-setosa', 'Iris-setosa', 'Iris-setosa', 'Iris-setosa', 'Iris-setosa', 'Iris-setosa', 'Iris-setosa', 'Iris-setosa', 'Iris-setosa', 'Iris-setosa', 'Iris-setosa', 'Iris-setosa', 'Iris-setosa', 'Iris-setosa', 'Iris-setosa', 'Iris-setosa', 'Iris-setosa', 'Iris-setosa', 'Iris-setosa', 'Iris-setosa', 'Iris-setosa', 'Iris-setosa', 'Iris-setosa', 'Iris-setosa', 'Iris-setosa', 'Iris-setosa', 'Iris-setosa', 'Iris-setosa', 'Iris-setosa', 'Iris-setosa', 'Iris-setosa', 'Iris-setosa', 'Iris-setosa', 'Iris-setosa', 'Iris-setosa', 'Iris-setosa', 'Iris-setosa', 'Iris-setosa', 'Iris-versicolor', 'Iris-versicolor', 'Iris-versicolor', 'Iris-versicolor', 'Iris-versicolor', 'Iris-versicolor', 'Iris-versicolor', 'Iris-versicolor', 'Iris-versicolor', 'Iris-versicolor', 'Iris-versicolor', 'Iris-versicolor', 'Iris-versicolor', 'Iris-versicolor', 'Iris-versicolor', 'Iris-versicolor', 'Iris-versicolor', 'Iris-versicolor', 'Iris-versicolor', 'Iris-versicolor', 'Iris-versicolor', 'Iris-versicolor', 'Iris-versicolor', 'Iris-versicolor', 'Iris-versicolor', 'Iris-versicolor', 'Iris-versicolor', 'Iris-versicolor', 'Iris-versicolor', 'Iris-versicolor', 'Iris-versicolor', 'Iris-versicolor', 'Iris-versicolor', 'Iris-virginica', 'Iris-versicolor', 'Iris-versicolor', 'Iris-versicolor', 'Iris-versicolor', 'Iris-versicolor', 'Iris-versicolor', 'Iris-virginica', 'Iris-virginica', 'Iris-virginica', 'Iris-virginica', 'Iris-virginica', 'Iris-virginica', 'Iris-virginica', 'Iris-virginica', 'Iris-virginica', 'Iris-virginica', 'Iris-virginica', 'Iris-virginica', 'Iris-virginica', 'Iris-virginica', 'Iris-virginica', 'Iris-virginica', 'Iris-virginica', 'Iris-virginica', 'Iris-virginica', 'Iris-virginica', 'Iris-virginica', 'Iris-virginica', 'Iris-virginica', 'Iris-virginica', 'Iris-virginica', 'Iris-virginica', 'Iris-virginica', 'Iris-virginica', 'Iris-virginica', 'Iris-virginica', 'Iris-virginica', 'Iris-virginica', 'Iris-virginica', 'Iris-versicolor', 'Iris-virginica', 'Iris-virginica', 'Iris-virginica', 'Iris-virginica', 'Iris-virginica', 'Iris-virginica']\n"
     ]
    }
   ],
   "source": [
    "LDA_noSl_training = []\n",
    "LDA_noSl_training = LDA_training_population(LDA_E_noSl, training_data_noSl, setosa_mu_noSl, versi_mu_noSl, virginica_mu_noSl, 3)\n"
   ]
  },
  {
   "cell_type": "code",
   "execution_count": 26,
   "metadata": {},
   "outputs": [
    {
     "name": "stdout",
     "output_type": "stream",
     "text": [
      "Iris-virginica at element 73 should have been Iris-versicolor\n",
      "Iris-versicolor at element 113 should have been Iris-virginica\n",
      "Error Rate for LDA Training Data No Sl: 0.016666666666666666\n"
     ]
    }
   ],
   "source": [
    "print(\"Error Rate for LDA Training Data No Sl: %s\" %(training_error_count(LDA_noSl_training)/120))\n"
   ]
  },
  {
   "cell_type": "code",
   "execution_count": 27,
   "metadata": {},
   "outputs": [
    {
     "name": "stdout",
     "output_type": "stream",
     "text": [
      "LDA_testing_classification\n",
      "['Iris-setosa', 'Iris-setosa', 'Iris-setosa', 'Iris-setosa', 'Iris-setosa', 'Iris-setosa', 'Iris-setosa', 'Iris-setosa', 'Iris-setosa', 'Iris-setosa', 'Iris-versicolor', 'Iris-versicolor', 'Iris-versicolor', 'Iris-versicolor', 'Iris-versicolor', 'Iris-versicolor', 'Iris-versicolor', 'Iris-versicolor', 'Iris-versicolor', 'Iris-versicolor', 'Iris-virginica', 'Iris-virginica', 'Iris-virginica', 'Iris-virginica', 'Iris-virginica', 'Iris-virginica', 'Iris-virginica', 'Iris-virginica', 'Iris-virginica', 'Iris-virginica']\n"
     ]
    }
   ],
   "source": [
    "LDA_noSl_testing = []\n",
    "LDA_noSl_testing = LDA_testing_population(LDA_E_noSl, testing_data_noSl, setosa_mu_noSl, versi_mu_noSl, virginica_mu_noSl, 3)\n"
   ]
  },
  {
   "cell_type": "code",
   "execution_count": 28,
   "metadata": {},
   "outputs": [
    {
     "name": "stdout",
     "output_type": "stream",
     "text": [
      "Error Rate for LDA Testing Data No Sl: 0.0\n"
     ]
    }
   ],
   "source": [
    "print(\"Error Rate for LDA Testing Data No Sl: %s\" %(testing_error_count(LDA_noSl_testing)/30))\n",
    "\n"
   ]
  },
  {
   "cell_type": "markdown",
   "metadata": {},
   "source": [
    "# Removing Sepal Width"
   ]
  },
  {
   "cell_type": "code",
   "execution_count": 29,
   "metadata": {
    "scrolled": false
   },
   "outputs": [],
   "source": [
    "training_data_noSw = np.concatenate(([training_data[0]],training_data[2:4]), axis = 0)\n",
    "\n",
    "testing_data_noSw = np.concatenate(([testing_data[0]],testing_data[2:4]), axis = 0)"
   ]
  },
  {
   "cell_type": "code",
   "execution_count": 30,
   "metadata": {
    "scrolled": true
   },
   "outputs": [],
   "source": [
    "setosa_training_noSw = np.concatenate(([setosa_training[0]],setosa_training[2:4]), axis = 0)\n",
    "setosa_testing_noSw = np.concatenate(([setosa_testing[0]],setosa_testing[2:4]), axis = 0)\n",
    "\n",
    "versi_training_noSw = np.concatenate(([versi_training[0]],versi_training[2:4]), axis = 0)\n",
    "versi_testing_noSw = np.concatenate(([versi_testing[0]],versi_testing[2:4]), axis = 0)\n",
    "\n",
    "virginica_training_noSw = np.concatenate(([virginica_training[0]],virginica_training[2:4]), axis = 0)\n",
    "virginica_testing_noSw = np.concatenate(([virginica_testing[0]],virginica_testing[2:4]), axis = 0)"
   ]
  },
  {
   "cell_type": "code",
   "execution_count": 31,
   "metadata": {},
   "outputs": [
    {
     "name": "stdout",
     "output_type": "stream",
     "text": [
      "Setosa Mu:\n",
      "[[5.0375]\n",
      " [1.4625]\n",
      " [0.2325]]\n",
      "Versi Mu:\n",
      "[[6.01  ]\n",
      " [4.3175]\n",
      " [1.35  ]]\n",
      "Virginica Mu:\n",
      "[[6.6225]\n",
      " [5.6075]\n",
      " [1.99  ]]\n"
     ]
    }
   ],
   "source": [
    "setosa_mu_noSw = np.array([np.sum(setosa_training_noSw, axis = 1)]).T/40\n",
    "versi_mu_noSw = np.array([np.sum(versi_training_noSw, axis = 1)]).T/40\n",
    "virginica_mu_noSw = np.array([np.sum(virginica_training_noSw, axis = 1)]).T/40\n",
    "\n",
    "print(\"Setosa Mu:\");\n",
    "print(setosa_mu_noSw);\n",
    "print(\"Versi Mu:\");\n",
    "print(versi_mu_noSw);\n",
    "print(\"Virginica Mu:\")\n",
    "print(virginica_mu_noSw);"
   ]
  },
  {
   "cell_type": "code",
   "execution_count": 32,
   "metadata": {},
   "outputs": [
    {
     "name": "stdout",
     "output_type": "stream",
     "text": [
      "Setosa Sigma\n",
      "[[0.12784375 0.01265625 0.01328125]\n",
      " [0.01265625 0.02884375 0.00446875]\n",
      " [0.01328125 0.00446875 0.00969375]]\n",
      "Versi Sigma\n",
      "[[0.2669     0.167825   0.051     ]\n",
      " [0.167825   0.19844375 0.071875  ]\n",
      " [0.051      0.071875   0.042     ]]\n",
      "Virginica Sigma\n",
      "[[0.45624375 0.34883125 0.049975  ]\n",
      " [0.34883125 0.33669375 0.057825  ]\n",
      " [0.049975   0.057825   0.0724    ]]\n",
      "LDA Sigma\n",
      "[[0.2836625  0.1764375  0.03808542]\n",
      " [0.1764375  0.18799375 0.04472292]\n",
      " [0.03808542 0.04472292 0.04136458]]\n"
     ]
    }
   ],
   "source": [
    "setosa_E_noSw = np.matmul((setosa_training_noSw-setosa_mu_noSw),(setosa_training_noSw-setosa_mu_noSw).T)/40\n",
    "versi_E_noSw = np.matmul((versi_training_noSw-versi_mu_noSw),(versi_training_noSw-versi_mu_noSw).T)/40\n",
    "virginica_E_noSw = np.matmul((virginica_training_noSw-virginica_mu_noSw),(virginica_training_noSw-virginica_mu_noSw).T)/40\n",
    "print(\"Setosa Sigma\")\n",
    "print(setosa_E_noSw)\n",
    "print(\"Versi Sigma\")\n",
    "print(versi_E_noSw)\n",
    "print(\"Virginica Sigma\")\n",
    "print(virginica_E_noSw)\n",
    "\n",
    "LDA_E_noSw = (setosa_E_noSw + versi_E_noSw + virginica_E_noSw)/3\n",
    "print(\"LDA Sigma\")\n",
    "print(LDA_E_noSw)"
   ]
  },
  {
   "cell_type": "code",
   "execution_count": 33,
   "metadata": {},
   "outputs": [
    {
     "name": "stdout",
     "output_type": "stream",
     "text": [
      "QDA_training_classification\n",
      "['Iris-setosa', 'Iris-setosa', 'Iris-setosa', 'Iris-setosa', 'Iris-setosa', 'Iris-setosa', 'Iris-setosa', 'Iris-setosa', 'Iris-setosa', 'Iris-setosa', 'Iris-setosa', 'Iris-setosa', 'Iris-setosa', 'Iris-setosa', 'Iris-setosa', 'Iris-setosa', 'Iris-setosa', 'Iris-setosa', 'Iris-setosa', 'Iris-setosa', 'Iris-setosa', 'Iris-setosa', 'Iris-setosa', 'Iris-setosa', 'Iris-setosa', 'Iris-setosa', 'Iris-setosa', 'Iris-setosa', 'Iris-setosa', 'Iris-setosa', 'Iris-setosa', 'Iris-setosa', 'Iris-setosa', 'Iris-setosa', 'Iris-setosa', 'Iris-setosa', 'Iris-setosa', 'Iris-setosa', 'Iris-setosa', 'Iris-setosa', 'Iris-versicolor', 'Iris-versicolor', 'Iris-versicolor', 'Iris-versicolor', 'Iris-versicolor', 'Iris-versicolor', 'Iris-versicolor', 'Iris-versicolor', 'Iris-versicolor', 'Iris-versicolor', 'Iris-versicolor', 'Iris-versicolor', 'Iris-versicolor', 'Iris-versicolor', 'Iris-versicolor', 'Iris-versicolor', 'Iris-versicolor', 'Iris-versicolor', 'Iris-versicolor', 'Iris-versicolor', 'Iris-virginica', 'Iris-versicolor', 'Iris-versicolor', 'Iris-versicolor', 'Iris-versicolor', 'Iris-versicolor', 'Iris-versicolor', 'Iris-versicolor', 'Iris-versicolor', 'Iris-versicolor', 'Iris-versicolor', 'Iris-versicolor', 'Iris-versicolor', 'Iris-virginica', 'Iris-versicolor', 'Iris-versicolor', 'Iris-versicolor', 'Iris-versicolor', 'Iris-versicolor', 'Iris-versicolor', 'Iris-virginica', 'Iris-virginica', 'Iris-virginica', 'Iris-virginica', 'Iris-virginica', 'Iris-virginica', 'Iris-virginica', 'Iris-virginica', 'Iris-virginica', 'Iris-virginica', 'Iris-virginica', 'Iris-virginica', 'Iris-virginica', 'Iris-virginica', 'Iris-virginica', 'Iris-virginica', 'Iris-virginica', 'Iris-virginica', 'Iris-virginica', 'Iris-virginica', 'Iris-virginica', 'Iris-virginica', 'Iris-virginica', 'Iris-virginica', 'Iris-virginica', 'Iris-virginica', 'Iris-virginica', 'Iris-virginica', 'Iris-virginica', 'Iris-virginica', 'Iris-virginica', 'Iris-virginica', 'Iris-virginica', 'Iris-virginica', 'Iris-virginica', 'Iris-virginica', 'Iris-virginica', 'Iris-virginica', 'Iris-virginica', 'Iris-virginica']\n"
     ]
    }
   ],
   "source": [
    "QDA_noSw_training = []\n",
    "QDA_noSw_training = QDA_training_population(setosa_E_noSw,versi_E_noSw,virginica_E_noSw, training_data_noSw, setosa_mu_noSw, versi_mu_noSw, virginica_mu_noSw, 3)\n"
   ]
  },
  {
   "cell_type": "code",
   "execution_count": 34,
   "metadata": {},
   "outputs": [
    {
     "name": "stdout",
     "output_type": "stream",
     "text": [
      "Iris-virginica at element 60 should have been Iris-versicolor\n",
      "Iris-virginica at element 73 should have been Iris-versicolor\n",
      "Error Rate for QDA Training Data No Sw: 0.016666666666666666\n"
     ]
    }
   ],
   "source": [
    "print(\"Error Rate for QDA Training Data No Sw: %s\" %(training_error_count(QDA_noSw_training)/120))\n"
   ]
  },
  {
   "cell_type": "code",
   "execution_count": 35,
   "metadata": {},
   "outputs": [
    {
     "name": "stdout",
     "output_type": "stream",
     "text": [
      "QDA_testing_classification\n",
      "['Iris-setosa', 'Iris-setosa', 'Iris-setosa', 'Iris-setosa', 'Iris-setosa', 'Iris-setosa', 'Iris-setosa', 'Iris-setosa', 'Iris-setosa', 'Iris-setosa', 'Iris-versicolor', 'Iris-versicolor', 'Iris-versicolor', 'Iris-versicolor', 'Iris-versicolor', 'Iris-versicolor', 'Iris-versicolor', 'Iris-versicolor', 'Iris-versicolor', 'Iris-versicolor', 'Iris-virginica', 'Iris-virginica', 'Iris-virginica', 'Iris-virginica', 'Iris-virginica', 'Iris-virginica', 'Iris-virginica', 'Iris-virginica', 'Iris-virginica', 'Iris-virginica']\n"
     ]
    }
   ],
   "source": [
    "QDA_noSw_testing = []\n",
    "QDA_noSw_testing = QDA_testing_population(setosa_E_noSw,versi_E_noSw,virginica_E_noSw, testing_data_noSw, setosa_mu_noSw, versi_mu_noSw, virginica_mu_noSw, 3)\n"
   ]
  },
  {
   "cell_type": "code",
   "execution_count": 36,
   "metadata": {},
   "outputs": [
    {
     "name": "stdout",
     "output_type": "stream",
     "text": [
      "Error Rate for QDA Testing Data No Sw: 0.0\n"
     ]
    }
   ],
   "source": [
    "print(\"Error Rate for QDA Testing Data No Sw: %s\" %(testing_error_count(QDA_noSw_testing)/30))\n",
    "\n"
   ]
  },
  {
   "cell_type": "code",
   "execution_count": 37,
   "metadata": {},
   "outputs": [
    {
     "name": "stdout",
     "output_type": "stream",
     "text": [
      "LDA_training_classification\n",
      "['Iris-setosa', 'Iris-setosa', 'Iris-setosa', 'Iris-setosa', 'Iris-setosa', 'Iris-setosa', 'Iris-setosa', 'Iris-setosa', 'Iris-setosa', 'Iris-setosa', 'Iris-setosa', 'Iris-setosa', 'Iris-setosa', 'Iris-setosa', 'Iris-setosa', 'Iris-setosa', 'Iris-setosa', 'Iris-setosa', 'Iris-setosa', 'Iris-setosa', 'Iris-setosa', 'Iris-setosa', 'Iris-setosa', 'Iris-setosa', 'Iris-setosa', 'Iris-setosa', 'Iris-setosa', 'Iris-setosa', 'Iris-setosa', 'Iris-setosa', 'Iris-setosa', 'Iris-setosa', 'Iris-setosa', 'Iris-setosa', 'Iris-setosa', 'Iris-setosa', 'Iris-setosa', 'Iris-setosa', 'Iris-setosa', 'Iris-setosa', 'Iris-versicolor', 'Iris-versicolor', 'Iris-versicolor', 'Iris-versicolor', 'Iris-versicolor', 'Iris-versicolor', 'Iris-versicolor', 'Iris-versicolor', 'Iris-versicolor', 'Iris-versicolor', 'Iris-versicolor', 'Iris-versicolor', 'Iris-versicolor', 'Iris-versicolor', 'Iris-versicolor', 'Iris-versicolor', 'Iris-versicolor', 'Iris-versicolor', 'Iris-versicolor', 'Iris-versicolor', 'Iris-virginica', 'Iris-versicolor', 'Iris-versicolor', 'Iris-versicolor', 'Iris-versicolor', 'Iris-versicolor', 'Iris-versicolor', 'Iris-versicolor', 'Iris-versicolor', 'Iris-versicolor', 'Iris-versicolor', 'Iris-versicolor', 'Iris-versicolor', 'Iris-virginica', 'Iris-versicolor', 'Iris-versicolor', 'Iris-versicolor', 'Iris-versicolor', 'Iris-versicolor', 'Iris-versicolor', 'Iris-virginica', 'Iris-virginica', 'Iris-virginica', 'Iris-virginica', 'Iris-virginica', 'Iris-virginica', 'Iris-virginica', 'Iris-virginica', 'Iris-virginica', 'Iris-virginica', 'Iris-virginica', 'Iris-virginica', 'Iris-virginica', 'Iris-virginica', 'Iris-virginica', 'Iris-virginica', 'Iris-virginica', 'Iris-virginica', 'Iris-virginica', 'Iris-virginica', 'Iris-virginica', 'Iris-virginica', 'Iris-virginica', 'Iris-virginica', 'Iris-virginica', 'Iris-virginica', 'Iris-virginica', 'Iris-virginica', 'Iris-virginica', 'Iris-virginica', 'Iris-virginica', 'Iris-virginica', 'Iris-virginica', 'Iris-versicolor', 'Iris-virginica', 'Iris-virginica', 'Iris-virginica', 'Iris-virginica', 'Iris-virginica', 'Iris-virginica']\n"
     ]
    }
   ],
   "source": [
    "LDA_noSw_training = []\n",
    "LDA_noSw_training = LDA_training_population(LDA_E_noSw, training_data_noSw, setosa_mu_noSw, versi_mu_noSw, virginica_mu_noSw, 3)\n"
   ]
  },
  {
   "cell_type": "code",
   "execution_count": 38,
   "metadata": {},
   "outputs": [
    {
     "name": "stdout",
     "output_type": "stream",
     "text": [
      "Iris-virginica at element 60 should have been Iris-versicolor\n",
      "Iris-virginica at element 73 should have been Iris-versicolor\n",
      "Iris-versicolor at element 113 should have been Iris-virginica\n",
      "Error Rate for LDA Training Data No Sw: 0.025\n"
     ]
    }
   ],
   "source": [
    "print(\"Error Rate for LDA Training Data No Sw: %s\" %(training_error_count(LDA_noSw_training)/120))\n"
   ]
  },
  {
   "cell_type": "code",
   "execution_count": 39,
   "metadata": {},
   "outputs": [
    {
     "name": "stdout",
     "output_type": "stream",
     "text": [
      "LDA_testing_classification\n",
      "['Iris-setosa', 'Iris-setosa', 'Iris-setosa', 'Iris-setosa', 'Iris-setosa', 'Iris-setosa', 'Iris-setosa', 'Iris-setosa', 'Iris-setosa', 'Iris-setosa', 'Iris-versicolor', 'Iris-versicolor', 'Iris-versicolor', 'Iris-versicolor', 'Iris-versicolor', 'Iris-versicolor', 'Iris-versicolor', 'Iris-versicolor', 'Iris-versicolor', 'Iris-versicolor', 'Iris-virginica', 'Iris-virginica', 'Iris-virginica', 'Iris-virginica', 'Iris-virginica', 'Iris-virginica', 'Iris-virginica', 'Iris-virginica', 'Iris-virginica', 'Iris-virginica']\n"
     ]
    }
   ],
   "source": [
    "LDA_noSw_testing = []\n",
    "LDA_noSw_testing = LDA_testing_population(LDA_E_noSw, testing_data_noSw, setosa_mu_noSw, versi_mu_noSw, virginica_mu_noSw, 3)\n"
   ]
  },
  {
   "cell_type": "code",
   "execution_count": 40,
   "metadata": {},
   "outputs": [
    {
     "name": "stdout",
     "output_type": "stream",
     "text": [
      "Error Rate for LDA Testing Data No Sw: 0.0\n"
     ]
    }
   ],
   "source": [
    "print(\"Error Rate for LDA Testing Data No Sw: %s\" %(testing_error_count(LDA_noSw_testing)/30))\n",
    "\n"
   ]
  },
  {
   "cell_type": "markdown",
   "metadata": {},
   "source": [
    "# Removing Petal Length"
   ]
  },
  {
   "cell_type": "code",
   "execution_count": 41,
   "metadata": {
    "scrolled": true
   },
   "outputs": [],
   "source": [
    "training_data_noPl = np.concatenate((training_data[0:2],[training_data[3]]), axis = 0)\n",
    "\n",
    "testing_data_noPl = np.concatenate((testing_data[0:2],[testing_data[3]]), axis = 0)"
   ]
  },
  {
   "cell_type": "code",
   "execution_count": 42,
   "metadata": {},
   "outputs": [],
   "source": [
    "setosa_training_noPl = np.concatenate((setosa_training[0:2],[setosa_training[3]]), axis = 0)\n",
    "setosa_testing_noPl = np.concatenate((setosa_testing[0:2],[setosa_testing[3]]), axis = 0)\n",
    "\n",
    "versi_training_noPl = np.concatenate((versi_training[0:2],[versi_training[3]]), axis = 0)\n",
    "versi_testing_noPl = np.concatenate((versi_testing[0:2],[versi_testing[3]]), axis = 0)\n",
    "\n",
    "virginica_training_noPl = np.concatenate((virginica_training[0:2],[virginica_training[3]]), axis = 0)\n",
    "virginica_testing_noPl = np.concatenate((virginica_testing[0:2],[virginica_testing[3]]), axis = 0)"
   ]
  },
  {
   "cell_type": "code",
   "execution_count": 43,
   "metadata": {},
   "outputs": [
    {
     "name": "stdout",
     "output_type": "stream",
     "text": [
      "Setosa Mu:\n",
      "[[5.0375]\n",
      " [3.44  ]\n",
      " [0.2325]]\n",
      "Versi Mu:\n",
      "[[6.01]\n",
      " [2.78]\n",
      " [1.35]]\n",
      "Virginica Mu:\n",
      "[[6.6225]\n",
      " [2.96  ]\n",
      " [1.99  ]]\n"
     ]
    }
   ],
   "source": [
    "setosa_mu_noPl = np.array([np.sum(setosa_training_noPl, axis = 1)]).T/40\n",
    "versi_mu_noPl = np.array([np.sum(versi_training_noPl, axis = 1)]).T/40\n",
    "virginica_mu_noPl = np.array([np.sum(virginica_training_noPl, axis = 1)]).T/40\n",
    "\n",
    "print(\"Setosa Mu:\");\n",
    "print(setosa_mu_noPl);\n",
    "print(\"Versi Mu:\");\n",
    "print(versi_mu_noPl);\n",
    "print(\"Virginica Mu:\")\n",
    "print(virginica_mu_noPl);"
   ]
  },
  {
   "cell_type": "code",
   "execution_count": 44,
   "metadata": {},
   "outputs": [
    {
     "name": "stdout",
     "output_type": "stream",
     "text": [
      "Setosa Sigma\n",
      "[[0.12784375 0.0965     0.01328125]\n",
      " [0.0965     0.1294     0.0142    ]\n",
      " [0.01328125 0.0142     0.00969375]]\n",
      "Versi Sigma\n",
      "[[0.2669  0.08445 0.051  ]\n",
      " [0.08445 0.1081  0.04425]\n",
      " [0.051   0.04425 0.042  ]]\n",
      "Virginica Sigma\n",
      "[[0.45624375 0.10765    0.049975  ]\n",
      " [0.10765    0.1104     0.0451    ]\n",
      " [0.049975   0.0451     0.0724    ]]\n",
      "LDA Sigma\n",
      "[[0.2836625  0.0962     0.03808542]\n",
      " [0.0962     0.11596667 0.03451667]\n",
      " [0.03808542 0.03451667 0.04136458]]\n"
     ]
    }
   ],
   "source": [
    "setosa_E_noPl = np.matmul((setosa_training_noPl-setosa_mu_noPl),(setosa_training_noPl-setosa_mu_noPl).T)/40\n",
    "versi_E_noPl = np.matmul((versi_training_noPl-versi_mu_noPl),(versi_training_noPl-versi_mu_noPl).T)/40\n",
    "virginica_E_noPl = np.matmul((virginica_training_noPl-virginica_mu_noPl),(virginica_training_noPl-virginica_mu_noPl).T)/40\n",
    "print(\"Setosa Sigma\")\n",
    "print(setosa_E_noPl)\n",
    "print(\"Versi Sigma\")\n",
    "print(versi_E_noPl)\n",
    "print(\"Virginica Sigma\")\n",
    "print(virginica_E_noPl)\n",
    "\n",
    "LDA_E_noPl = (setosa_E_noPl + versi_E_noPl + virginica_E_noPl)/3\n",
    "print(\"LDA Sigma\")\n",
    "print(LDA_E_noPl)"
   ]
  },
  {
   "cell_type": "code",
   "execution_count": 45,
   "metadata": {},
   "outputs": [
    {
     "name": "stdout",
     "output_type": "stream",
     "text": [
      "QDA_training_classification\n",
      "['Iris-setosa', 'Iris-setosa', 'Iris-setosa', 'Iris-setosa', 'Iris-setosa', 'Iris-setosa', 'Iris-setosa', 'Iris-setosa', 'Iris-setosa', 'Iris-setosa', 'Iris-setosa', 'Iris-setosa', 'Iris-setosa', 'Iris-setosa', 'Iris-setosa', 'Iris-setosa', 'Iris-setosa', 'Iris-setosa', 'Iris-setosa', 'Iris-setosa', 'Iris-setosa', 'Iris-setosa', 'Iris-setosa', 'Iris-setosa', 'Iris-setosa', 'Iris-setosa', 'Iris-setosa', 'Iris-setosa', 'Iris-setosa', 'Iris-setosa', 'Iris-setosa', 'Iris-setosa', 'Iris-setosa', 'Iris-setosa', 'Iris-setosa', 'Iris-setosa', 'Iris-setosa', 'Iris-setosa', 'Iris-setosa', 'Iris-setosa', 'Iris-versicolor', 'Iris-versicolor', 'Iris-versicolor', 'Iris-versicolor', 'Iris-versicolor', 'Iris-versicolor', 'Iris-versicolor', 'Iris-versicolor', 'Iris-versicolor', 'Iris-versicolor', 'Iris-versicolor', 'Iris-versicolor', 'Iris-versicolor', 'Iris-versicolor', 'Iris-versicolor', 'Iris-versicolor', 'Iris-versicolor', 'Iris-versicolor', 'Iris-virginica', 'Iris-versicolor', 'Iris-virginica', 'Iris-versicolor', 'Iris-versicolor', 'Iris-versicolor', 'Iris-versicolor', 'Iris-versicolor', 'Iris-versicolor', 'Iris-virginica', 'Iris-versicolor', 'Iris-versicolor', 'Iris-versicolor', 'Iris-versicolor', 'Iris-versicolor', 'Iris-versicolor', 'Iris-versicolor', 'Iris-versicolor', 'Iris-versicolor', 'Iris-versicolor', 'Iris-versicolor', 'Iris-versicolor', 'Iris-virginica', 'Iris-virginica', 'Iris-virginica', 'Iris-virginica', 'Iris-virginica', 'Iris-virginica', 'Iris-virginica', 'Iris-virginica', 'Iris-virginica', 'Iris-virginica', 'Iris-virginica', 'Iris-virginica', 'Iris-virginica', 'Iris-virginica', 'Iris-virginica', 'Iris-virginica', 'Iris-virginica', 'Iris-virginica', 'Iris-virginica', 'Iris-virginica', 'Iris-virginica', 'Iris-virginica', 'Iris-virginica', 'Iris-virginica', 'Iris-virginica', 'Iris-virginica', 'Iris-virginica', 'Iris-virginica', 'Iris-virginica', 'Iris-virginica', 'Iris-virginica', 'Iris-virginica', 'Iris-virginica', 'Iris-versicolor', 'Iris-versicolor', 'Iris-virginica', 'Iris-virginica', 'Iris-virginica', 'Iris-virginica', 'Iris-virginica']\n"
     ]
    }
   ],
   "source": [
    "QDA_noPl_training = []\n",
    "QDA_noPl_training = QDA_training_population(setosa_E_noPl,versi_E_noPl,virginica_E_noPl, training_data_noPl, setosa_mu_noPl, versi_mu_noPl, virginica_mu_noPl, 3)\n"
   ]
  },
  {
   "cell_type": "code",
   "execution_count": 46,
   "metadata": {},
   "outputs": [
    {
     "name": "stdout",
     "output_type": "stream",
     "text": [
      "Iris-virginica at element 58 should have been Iris-versicolor\n",
      "Iris-virginica at element 60 should have been Iris-versicolor\n",
      "Iris-virginica at element 67 should have been Iris-versicolor\n",
      "Iris-versicolor at element 113 should have been Iris-virginica\n",
      "Iris-versicolor at element 114 should have been Iris-virginica\n",
      "Error Rate for QDA Training Data No Pl: 0.041666666666666664\n"
     ]
    }
   ],
   "source": [
    "print(\"Error Rate for QDA Training Data No Pl: %s\" %(training_error_count(QDA_noPl_training)/120))\n"
   ]
  },
  {
   "cell_type": "code",
   "execution_count": 47,
   "metadata": {},
   "outputs": [
    {
     "name": "stdout",
     "output_type": "stream",
     "text": [
      "QDA_testing_classification\n",
      "['Iris-setosa', 'Iris-setosa', 'Iris-setosa', 'Iris-setosa', 'Iris-setosa', 'Iris-setosa', 'Iris-setosa', 'Iris-setosa', 'Iris-setosa', 'Iris-setosa', 'Iris-versicolor', 'Iris-versicolor', 'Iris-versicolor', 'Iris-versicolor', 'Iris-versicolor', 'Iris-versicolor', 'Iris-versicolor', 'Iris-versicolor', 'Iris-versicolor', 'Iris-versicolor', 'Iris-virginica', 'Iris-virginica', 'Iris-virginica', 'Iris-virginica', 'Iris-virginica', 'Iris-virginica', 'Iris-virginica', 'Iris-virginica', 'Iris-virginica', 'Iris-virginica']\n"
     ]
    }
   ],
   "source": [
    "QDA_noPl_testing = []\n",
    "QDA_noPl_testing = QDA_testing_population(setosa_E_noPl,versi_E_noPl,virginica_E_noPl, testing_data_noPl, setosa_mu_noPl, versi_mu_noPl, virginica_mu_noPl, 3)\n"
   ]
  },
  {
   "cell_type": "code",
   "execution_count": 48,
   "metadata": {},
   "outputs": [
    {
     "name": "stdout",
     "output_type": "stream",
     "text": [
      "Error Rate for QDA Testing Data No Sw: 0.0\n"
     ]
    }
   ],
   "source": [
    "print(\"Error Rate for QDA Testing Data No Sw: %s\" %(testing_error_count(QDA_noPl_testing)/30))\n",
    "\n"
   ]
  },
  {
   "cell_type": "code",
   "execution_count": 49,
   "metadata": {},
   "outputs": [
    {
     "name": "stdout",
     "output_type": "stream",
     "text": [
      "LDA_training_classification\n",
      "['Iris-setosa', 'Iris-setosa', 'Iris-setosa', 'Iris-setosa', 'Iris-setosa', 'Iris-setosa', 'Iris-setosa', 'Iris-setosa', 'Iris-setosa', 'Iris-setosa', 'Iris-setosa', 'Iris-setosa', 'Iris-setosa', 'Iris-setosa', 'Iris-setosa', 'Iris-setosa', 'Iris-setosa', 'Iris-setosa', 'Iris-setosa', 'Iris-setosa', 'Iris-setosa', 'Iris-setosa', 'Iris-setosa', 'Iris-setosa', 'Iris-setosa', 'Iris-setosa', 'Iris-setosa', 'Iris-setosa', 'Iris-setosa', 'Iris-setosa', 'Iris-setosa', 'Iris-setosa', 'Iris-setosa', 'Iris-setosa', 'Iris-setosa', 'Iris-setosa', 'Iris-setosa', 'Iris-setosa', 'Iris-setosa', 'Iris-setosa', 'Iris-versicolor', 'Iris-versicolor', 'Iris-versicolor', 'Iris-versicolor', 'Iris-versicolor', 'Iris-versicolor', 'Iris-versicolor', 'Iris-versicolor', 'Iris-versicolor', 'Iris-versicolor', 'Iris-versicolor', 'Iris-versicolor', 'Iris-versicolor', 'Iris-versicolor', 'Iris-versicolor', 'Iris-versicolor', 'Iris-versicolor', 'Iris-versicolor', 'Iris-virginica', 'Iris-versicolor', 'Iris-virginica', 'Iris-versicolor', 'Iris-versicolor', 'Iris-versicolor', 'Iris-versicolor', 'Iris-versicolor', 'Iris-versicolor', 'Iris-virginica', 'Iris-versicolor', 'Iris-versicolor', 'Iris-versicolor', 'Iris-versicolor', 'Iris-versicolor', 'Iris-versicolor', 'Iris-versicolor', 'Iris-versicolor', 'Iris-versicolor', 'Iris-versicolor', 'Iris-versicolor', 'Iris-versicolor', 'Iris-virginica', 'Iris-virginica', 'Iris-virginica', 'Iris-virginica', 'Iris-virginica', 'Iris-virginica', 'Iris-virginica', 'Iris-virginica', 'Iris-virginica', 'Iris-virginica', 'Iris-virginica', 'Iris-virginica', 'Iris-virginica', 'Iris-virginica', 'Iris-virginica', 'Iris-virginica', 'Iris-virginica', 'Iris-virginica', 'Iris-virginica', 'Iris-versicolor', 'Iris-virginica', 'Iris-virginica', 'Iris-virginica', 'Iris-virginica', 'Iris-virginica', 'Iris-virginica', 'Iris-virginica', 'Iris-virginica', 'Iris-virginica', 'Iris-versicolor', 'Iris-virginica', 'Iris-virginica', 'Iris-virginica', 'Iris-versicolor', 'Iris-versicolor', 'Iris-virginica', 'Iris-virginica', 'Iris-virginica', 'Iris-virginica', 'Iris-virginica']\n"
     ]
    }
   ],
   "source": [
    "LDA_noPl_training = []\n",
    "LDA_noPl_training = LDA_training_population(LDA_E_noPl, training_data_noPl, setosa_mu_noPl, versi_mu_noPl, virginica_mu_noPl, 3)\n"
   ]
  },
  {
   "cell_type": "code",
   "execution_count": 50,
   "metadata": {},
   "outputs": [
    {
     "name": "stdout",
     "output_type": "stream",
     "text": [
      "Iris-virginica at element 58 should have been Iris-versicolor\n",
      "Iris-virginica at element 60 should have been Iris-versicolor\n",
      "Iris-virginica at element 67 should have been Iris-versicolor\n",
      "Iris-versicolor at element 99 should have been Iris-virginica\n",
      "Iris-versicolor at element 109 should have been Iris-virginica\n",
      "Iris-versicolor at element 113 should have been Iris-virginica\n",
      "Iris-versicolor at element 114 should have been Iris-virginica\n",
      "Error Rate for LDA Training Data No Sw: 0.058333333333333334\n"
     ]
    }
   ],
   "source": [
    "print(\"Error Rate for LDA Training Data No Sw: %s\" %(training_error_count(LDA_noPl_training)/120))\n"
   ]
  },
  {
   "cell_type": "code",
   "execution_count": 51,
   "metadata": {},
   "outputs": [
    {
     "name": "stdout",
     "output_type": "stream",
     "text": [
      "LDA_testing_classification\n",
      "['Iris-setosa', 'Iris-setosa', 'Iris-setosa', 'Iris-setosa', 'Iris-setosa', 'Iris-setosa', 'Iris-setosa', 'Iris-setosa', 'Iris-setosa', 'Iris-setosa', 'Iris-versicolor', 'Iris-versicolor', 'Iris-versicolor', 'Iris-versicolor', 'Iris-versicolor', 'Iris-versicolor', 'Iris-versicolor', 'Iris-versicolor', 'Iris-versicolor', 'Iris-versicolor', 'Iris-virginica', 'Iris-virginica', 'Iris-virginica', 'Iris-virginica', 'Iris-virginica', 'Iris-virginica', 'Iris-virginica', 'Iris-virginica', 'Iris-virginica', 'Iris-virginica']\n"
     ]
    }
   ],
   "source": [
    "LDA_noPl_testing = []\n",
    "LDA_noPl_testing = LDA_testing_population(LDA_E_noPl, testing_data_noPl, setosa_mu_noPl, versi_mu_noPl, virginica_mu_noPl, 3)\n"
   ]
  },
  {
   "cell_type": "code",
   "execution_count": 52,
   "metadata": {},
   "outputs": [
    {
     "name": "stdout",
     "output_type": "stream",
     "text": [
      "Error Rate for LDA Testing Data No Sw: 0.0\n"
     ]
    }
   ],
   "source": [
    "print(\"Error Rate for LDA Testing Data No Sw: %s\" %(testing_error_count(LDA_noPl_testing)/30))\n",
    "\n"
   ]
  },
  {
   "cell_type": "markdown",
   "metadata": {},
   "source": [
    "# Removing Petal Width"
   ]
  },
  {
   "cell_type": "code",
   "execution_count": 53,
   "metadata": {
    "scrolled": true
   },
   "outputs": [],
   "source": [
    "training_data_noPw = training_data[0:3]\n",
    "\n",
    "testing_data_noPw = testing_data[0:3]"
   ]
  },
  {
   "cell_type": "code",
   "execution_count": 54,
   "metadata": {
    "scrolled": true
   },
   "outputs": [],
   "source": [
    "setosa_training_noPw = setosa_training[0:3]\n",
    "setosa_testing_noPw = setosa_testing[0:3]\n",
    "\n",
    "versi_training_noPw = versi_training[0:3]\n",
    "versi_testing_noPw = versi_testing[0:3]\n",
    "\n",
    "virginica_training_noPw = virginica_training[0:3]\n",
    "virginica_testing_noPw = virginica_training[0:3]"
   ]
  },
  {
   "cell_type": "code",
   "execution_count": 55,
   "metadata": {},
   "outputs": [
    {
     "name": "stdout",
     "output_type": "stream",
     "text": [
      "Setosa Mu:\n",
      "[[5.0375]\n",
      " [3.44  ]\n",
      " [1.4625]]\n",
      "Versi Mu:\n",
      "[[6.01  ]\n",
      " [2.78  ]\n",
      " [4.3175]]\n",
      "Virginica Mu:\n",
      "[[6.6225]\n",
      " [2.96  ]\n",
      " [5.6075]]\n"
     ]
    }
   ],
   "source": [
    "setosa_mu_noPw = np.array([np.sum(setosa_training_noPw, axis = 1)]).T/40\n",
    "versi_mu_noPw = np.array([np.sum(versi_training_noPw, axis = 1)]).T/40\n",
    "virginica_mu_noPw = np.array([np.sum(virginica_training_noPw, axis = 1)]).T/40\n",
    "\n",
    "print(\"Setosa Mu:\");\n",
    "print(setosa_mu_noPw);\n",
    "print(\"Versi Mu:\");\n",
    "print(versi_mu_noPw);\n",
    "print(\"Virginica Mu:\")\n",
    "print(virginica_mu_noPw);"
   ]
  },
  {
   "cell_type": "code",
   "execution_count": 56,
   "metadata": {},
   "outputs": [
    {
     "name": "stdout",
     "output_type": "stream",
     "text": [
      "Setosa Sigma\n",
      "[[0.12784375 0.0965     0.01265625]\n",
      " [0.0965     0.1294     0.002     ]\n",
      " [0.01265625 0.002      0.02884375]]\n",
      "Versi Sigma\n",
      "[[0.2669     0.08445    0.167825  ]\n",
      " [0.08445    0.1081     0.07885   ]\n",
      " [0.167825   0.07885    0.19844375]]\n",
      "Virginica Sigma\n",
      "[[0.45624375 0.10765    0.34883125]\n",
      " [0.10765    0.1104     0.07905   ]\n",
      " [0.34883125 0.07905    0.33669375]]\n",
      "LDA Sigma\n",
      "[[0.2836625  0.0962     0.1764375 ]\n",
      " [0.0962     0.11596667 0.0533    ]\n",
      " [0.1764375  0.0533     0.18799375]]\n"
     ]
    }
   ],
   "source": [
    "setosa_E_noPw = np.matmul((setosa_training_noPw-setosa_mu_noPw),(setosa_training_noPw-setosa_mu_noPw).T)/40\n",
    "versi_E_noPw = np.matmul((versi_training_noPw-versi_mu_noPw),(versi_training_noPw-versi_mu_noPw).T)/40\n",
    "virginica_E_noPw = np.matmul((virginica_training_noPw-virginica_mu_noPw),(virginica_training_noPw-virginica_mu_noPw).T)/40\n",
    "print(\"Setosa Sigma\")\n",
    "print(setosa_E_noPw)\n",
    "print(\"Versi Sigma\")\n",
    "print(versi_E_noPw)\n",
    "print(\"Virginica Sigma\")\n",
    "print(virginica_E_noPw)\n",
    "\n",
    "LDA_E_noPw = (setosa_E_noPw + versi_E_noPw + virginica_E_noPw)/3\n",
    "print(\"LDA Sigma\")\n",
    "print(LDA_E_noPw)"
   ]
  },
  {
   "cell_type": "code",
   "execution_count": 57,
   "metadata": {},
   "outputs": [
    {
     "name": "stdout",
     "output_type": "stream",
     "text": [
      "QDA_training_classification\n",
      "['Iris-setosa', 'Iris-setosa', 'Iris-setosa', 'Iris-setosa', 'Iris-setosa', 'Iris-setosa', 'Iris-setosa', 'Iris-setosa', 'Iris-setosa', 'Iris-setosa', 'Iris-setosa', 'Iris-setosa', 'Iris-setosa', 'Iris-setosa', 'Iris-setosa', 'Iris-setosa', 'Iris-setosa', 'Iris-setosa', 'Iris-setosa', 'Iris-setosa', 'Iris-setosa', 'Iris-setosa', 'Iris-setosa', 'Iris-setosa', 'Iris-setosa', 'Iris-setosa', 'Iris-setosa', 'Iris-setosa', 'Iris-setosa', 'Iris-setosa', 'Iris-setosa', 'Iris-setosa', 'Iris-setosa', 'Iris-setosa', 'Iris-setosa', 'Iris-setosa', 'Iris-setosa', 'Iris-setosa', 'Iris-setosa', 'Iris-setosa', 'Iris-versicolor', 'Iris-versicolor', 'Iris-versicolor', 'Iris-versicolor', 'Iris-versicolor', 'Iris-versicolor', 'Iris-versicolor', 'Iris-versicolor', 'Iris-versicolor', 'Iris-versicolor', 'Iris-versicolor', 'Iris-versicolor', 'Iris-versicolor', 'Iris-versicolor', 'Iris-versicolor', 'Iris-versicolor', 'Iris-versicolor', 'Iris-versicolor', 'Iris-versicolor', 'Iris-versicolor', 'Iris-virginica', 'Iris-versicolor', 'Iris-versicolor', 'Iris-versicolor', 'Iris-versicolor', 'Iris-versicolor', 'Iris-versicolor', 'Iris-versicolor', 'Iris-versicolor', 'Iris-versicolor', 'Iris-versicolor', 'Iris-versicolor', 'Iris-versicolor', 'Iris-virginica', 'Iris-virginica', 'Iris-versicolor', 'Iris-versicolor', 'Iris-versicolor', 'Iris-versicolor', 'Iris-versicolor', 'Iris-virginica', 'Iris-virginica', 'Iris-virginica', 'Iris-virginica', 'Iris-virginica', 'Iris-virginica', 'Iris-virginica', 'Iris-virginica', 'Iris-virginica', 'Iris-virginica', 'Iris-versicolor', 'Iris-virginica', 'Iris-virginica', 'Iris-virginica', 'Iris-virginica', 'Iris-virginica', 'Iris-virginica', 'Iris-virginica', 'Iris-virginica', 'Iris-virginica', 'Iris-virginica', 'Iris-virginica', 'Iris-virginica', 'Iris-versicolor', 'Iris-virginica', 'Iris-virginica', 'Iris-versicolor', 'Iris-virginica', 'Iris-virginica', 'Iris-virginica', 'Iris-virginica', 'Iris-virginica', 'Iris-virginica', 'Iris-virginica', 'Iris-virginica', 'Iris-virginica', 'Iris-virginica', 'Iris-virginica', 'Iris-versicolor', 'Iris-virginica']\n"
     ]
    }
   ],
   "source": [
    "QDA_noPw_training = []\n",
    "QDA_noPw_training = QDA_training_population(setosa_E_noPw,versi_E_noPw,virginica_E_noPw, training_data_noPw, setosa_mu_noPw, versi_mu_noPw, virginica_mu_noPw, 3)\n"
   ]
  },
  {
   "cell_type": "code",
   "execution_count": 58,
   "metadata": {},
   "outputs": [
    {
     "name": "stdout",
     "output_type": "stream",
     "text": [
      "Iris-virginica at element 60 should have been Iris-versicolor\n",
      "Iris-virginica at element 73 should have been Iris-versicolor\n",
      "Iris-virginica at element 74 should have been Iris-versicolor\n",
      "Iris-versicolor at element 90 should have been Iris-virginica\n",
      "Iris-versicolor at element 103 should have been Iris-virginica\n",
      "Iris-versicolor at element 106 should have been Iris-virginica\n",
      "Iris-versicolor at element 118 should have been Iris-virginica\n",
      "Error Rate for QDA Training Data No Pw: 0.058333333333333334\n"
     ]
    }
   ],
   "source": [
    "print(\"Error Rate for QDA Training Data No Pw: %s\" %(training_error_count(QDA_noPw_training)/120))\n"
   ]
  },
  {
   "cell_type": "code",
   "execution_count": 59,
   "metadata": {},
   "outputs": [
    {
     "name": "stdout",
     "output_type": "stream",
     "text": [
      "QDA_testing_classification\n",
      "['Iris-setosa', 'Iris-setosa', 'Iris-setosa', 'Iris-setosa', 'Iris-setosa', 'Iris-setosa', 'Iris-setosa', 'Iris-setosa', 'Iris-setosa', 'Iris-setosa', 'Iris-versicolor', 'Iris-versicolor', 'Iris-versicolor', 'Iris-versicolor', 'Iris-versicolor', 'Iris-versicolor', 'Iris-versicolor', 'Iris-versicolor', 'Iris-versicolor', 'Iris-versicolor', 'Iris-virginica', 'Iris-versicolor', 'Iris-virginica', 'Iris-virginica', 'Iris-virginica', 'Iris-virginica', 'Iris-virginica', 'Iris-virginica', 'Iris-virginica', 'Iris-virginica']\n"
     ]
    }
   ],
   "source": [
    "QDA_noPw_testing = []\n",
    "QDA_noPw_testing = QDA_testing_population(setosa_E_noPw,versi_E_noPw,virginica_E_noPw, testing_data_noPw, setosa_mu_noPw, versi_mu_noPw, virginica_mu_noPw, 3)\n"
   ]
  },
  {
   "cell_type": "code",
   "execution_count": 60,
   "metadata": {},
   "outputs": [
    {
     "name": "stdout",
     "output_type": "stream",
     "text": [
      "Iris-versicolor at element 21 should have been Iris-virginica\n",
      "Error Rate for QDA Testing Data No Pw: 0.03333333333333333\n"
     ]
    }
   ],
   "source": [
    "print(\"Error Rate for QDA Testing Data No Pw: %s\" %(testing_error_count(QDA_noPw_testing)/30))\n",
    "\n"
   ]
  },
  {
   "cell_type": "code",
   "execution_count": 61,
   "metadata": {},
   "outputs": [
    {
     "name": "stdout",
     "output_type": "stream",
     "text": [
      "LDA_training_classification\n",
      "['Iris-setosa', 'Iris-setosa', 'Iris-setosa', 'Iris-setosa', 'Iris-setosa', 'Iris-setosa', 'Iris-setosa', 'Iris-setosa', 'Iris-setosa', 'Iris-setosa', 'Iris-setosa', 'Iris-setosa', 'Iris-setosa', 'Iris-setosa', 'Iris-setosa', 'Iris-setosa', 'Iris-setosa', 'Iris-setosa', 'Iris-setosa', 'Iris-setosa', 'Iris-setosa', 'Iris-setosa', 'Iris-setosa', 'Iris-setosa', 'Iris-setosa', 'Iris-setosa', 'Iris-setosa', 'Iris-setosa', 'Iris-setosa', 'Iris-setosa', 'Iris-setosa', 'Iris-setosa', 'Iris-setosa', 'Iris-setosa', 'Iris-setosa', 'Iris-setosa', 'Iris-setosa', 'Iris-setosa', 'Iris-setosa', 'Iris-setosa', 'Iris-versicolor', 'Iris-versicolor', 'Iris-versicolor', 'Iris-versicolor', 'Iris-versicolor', 'Iris-versicolor', 'Iris-versicolor', 'Iris-versicolor', 'Iris-versicolor', 'Iris-versicolor', 'Iris-versicolor', 'Iris-versicolor', 'Iris-versicolor', 'Iris-versicolor', 'Iris-versicolor', 'Iris-versicolor', 'Iris-versicolor', 'Iris-versicolor', 'Iris-versicolor', 'Iris-versicolor', 'Iris-virginica', 'Iris-versicolor', 'Iris-versicolor', 'Iris-versicolor', 'Iris-versicolor', 'Iris-versicolor', 'Iris-versicolor', 'Iris-versicolor', 'Iris-versicolor', 'Iris-versicolor', 'Iris-versicolor', 'Iris-versicolor', 'Iris-versicolor', 'Iris-virginica', 'Iris-versicolor', 'Iris-versicolor', 'Iris-versicolor', 'Iris-versicolor', 'Iris-versicolor', 'Iris-versicolor', 'Iris-virginica', 'Iris-virginica', 'Iris-virginica', 'Iris-virginica', 'Iris-virginica', 'Iris-virginica', 'Iris-virginica', 'Iris-virginica', 'Iris-virginica', 'Iris-virginica', 'Iris-virginica', 'Iris-virginica', 'Iris-virginica', 'Iris-virginica', 'Iris-virginica', 'Iris-virginica', 'Iris-virginica', 'Iris-virginica', 'Iris-virginica', 'Iris-virginica', 'Iris-virginica', 'Iris-virginica', 'Iris-virginica', 'Iris-versicolor', 'Iris-virginica', 'Iris-virginica', 'Iris-versicolor', 'Iris-virginica', 'Iris-virginica', 'Iris-virginica', 'Iris-virginica', 'Iris-virginica', 'Iris-virginica', 'Iris-virginica', 'Iris-virginica', 'Iris-virginica', 'Iris-virginica', 'Iris-virginica', 'Iris-versicolor', 'Iris-virginica']\n"
     ]
    }
   ],
   "source": [
    "LDA_noPw_training = []\n",
    "LDA_noPw_training = LDA_training_population(LDA_E_noPw, training_data_noPw, setosa_mu_noPw, versi_mu_noPw, virginica_mu_noPw, 3)\n"
   ]
  },
  {
   "cell_type": "code",
   "execution_count": 62,
   "metadata": {},
   "outputs": [
    {
     "name": "stdout",
     "output_type": "stream",
     "text": [
      "Iris-virginica at element 60 should have been Iris-versicolor\n",
      "Iris-virginica at element 73 should have been Iris-versicolor\n",
      "Iris-versicolor at element 103 should have been Iris-virginica\n",
      "Iris-versicolor at element 106 should have been Iris-virginica\n",
      "Iris-versicolor at element 118 should have been Iris-virginica\n",
      "Error Rate for LDA Training Data No Pw: 0.041666666666666664\n"
     ]
    }
   ],
   "source": [
    "print(\"Error Rate for LDA Training Data No Pw: %s\" %(training_error_count(LDA_noPw_training)/120))\n"
   ]
  },
  {
   "cell_type": "code",
   "execution_count": 63,
   "metadata": {},
   "outputs": [
    {
     "name": "stdout",
     "output_type": "stream",
     "text": [
      "LDA_testing_classification\n",
      "['Iris-setosa', 'Iris-setosa', 'Iris-setosa', 'Iris-setosa', 'Iris-setosa', 'Iris-setosa', 'Iris-setosa', 'Iris-setosa', 'Iris-setosa', 'Iris-setosa', 'Iris-versicolor', 'Iris-versicolor', 'Iris-versicolor', 'Iris-versicolor', 'Iris-versicolor', 'Iris-versicolor', 'Iris-versicolor', 'Iris-versicolor', 'Iris-versicolor', 'Iris-versicolor', 'Iris-virginica', 'Iris-versicolor', 'Iris-virginica', 'Iris-virginica', 'Iris-virginica', 'Iris-virginica', 'Iris-virginica', 'Iris-virginica', 'Iris-virginica', 'Iris-virginica']\n"
     ]
    }
   ],
   "source": [
    "LDA_noPw_testing = []\n",
    "LDA_noPw_testing = LDA_testing_population(LDA_E_noPw, testing_data_noPw, setosa_mu_noPw, versi_mu_noPw, virginica_mu_noPw, 3)\n"
   ]
  },
  {
   "cell_type": "code",
   "execution_count": 64,
   "metadata": {},
   "outputs": [
    {
     "name": "stdout",
     "output_type": "stream",
     "text": [
      "Iris-versicolor at element 21 should have been Iris-virginica\n",
      "Error Rate for LDA Testing Data No Pw: 0.03333333333333333\n"
     ]
    }
   ],
   "source": [
    "print(\"Error Rate for LDA Testing Data No Pw: %s\" %(testing_error_count(LDA_noPw_testing)/30))\n",
    "\n"
   ]
  },
  {
   "cell_type": "markdown",
   "metadata": {},
   "source": [
    "# Diagonal Matrix"
   ]
  },
  {
   "cell_type": "code",
   "execution_count": 65,
   "metadata": {},
   "outputs": [
    {
     "name": "stdout",
     "output_type": "stream",
     "text": [
      "[[0.12784375 0.         0.         0.        ]\n",
      " [0.         0.1294     0.         0.        ]\n",
      " [0.         0.         0.02884375 0.        ]\n",
      " [0.         0.         0.         0.00969375]]\n",
      "[[0.2669     0.         0.         0.        ]\n",
      " [0.         0.1081     0.         0.        ]\n",
      " [0.         0.         0.19844375 0.        ]\n",
      " [0.         0.         0.         0.042     ]]\n",
      "[[0.45624375 0.         0.         0.        ]\n",
      " [0.         0.1104     0.         0.        ]\n",
      " [0.         0.         0.33669375 0.        ]\n",
      " [0.         0.         0.         0.0724    ]]\n"
     ]
    }
   ],
   "source": [
    "setosa_diagonal_E = np.zeros((4,4))\n",
    "versi_diagonal_E = np.zeros((4,4))\n",
    "virginica_diagonal_E = np.zeros((4,4))\n",
    "\n",
    "for i in range(4):\n",
    "    setosa_diagonal_E[i,i] = setosa_E[i,i]\n",
    "    versi_diagonal_E[i,i] = versi_E[i,i]\n",
    "    virginica_diagonal_E[i,i] = virginica_E[i,i]\n",
    "\n",
    "print(setosa_diagonal_E)\n",
    "print(versi_diagonal_E)\n",
    "print(virginica_diagonal_E)"
   ]
  },
  {
   "cell_type": "code",
   "execution_count": 66,
   "metadata": {},
   "outputs": [
    {
     "name": "stdout",
     "output_type": "stream",
     "text": [
      "QDA_training_classification\n",
      "['Iris-setosa', 'Iris-setosa', 'Iris-setosa', 'Iris-setosa', 'Iris-setosa', 'Iris-setosa', 'Iris-setosa', 'Iris-setosa', 'Iris-setosa', 'Iris-setosa', 'Iris-setosa', 'Iris-setosa', 'Iris-setosa', 'Iris-setosa', 'Iris-setosa', 'Iris-setosa', 'Iris-setosa', 'Iris-setosa', 'Iris-setosa', 'Iris-setosa', 'Iris-setosa', 'Iris-setosa', 'Iris-setosa', 'Iris-setosa', 'Iris-setosa', 'Iris-setosa', 'Iris-setosa', 'Iris-setosa', 'Iris-setosa', 'Iris-setosa', 'Iris-setosa', 'Iris-setosa', 'Iris-setosa', 'Iris-setosa', 'Iris-setosa', 'Iris-setosa', 'Iris-setosa', 'Iris-setosa', 'Iris-setosa', 'Iris-setosa', 'Iris-versicolor', 'Iris-versicolor', 'Iris-versicolor', 'Iris-versicolor', 'Iris-versicolor', 'Iris-versicolor', 'Iris-versicolor', 'Iris-versicolor', 'Iris-versicolor', 'Iris-versicolor', 'Iris-versicolor', 'Iris-versicolor', 'Iris-versicolor', 'Iris-versicolor', 'Iris-versicolor', 'Iris-versicolor', 'Iris-versicolor', 'Iris-versicolor', 'Iris-versicolor', 'Iris-versicolor', 'Iris-virginica', 'Iris-versicolor', 'Iris-versicolor', 'Iris-versicolor', 'Iris-versicolor', 'Iris-versicolor', 'Iris-versicolor', 'Iris-virginica', 'Iris-versicolor', 'Iris-versicolor', 'Iris-versicolor', 'Iris-versicolor', 'Iris-versicolor', 'Iris-versicolor', 'Iris-versicolor', 'Iris-versicolor', 'Iris-versicolor', 'Iris-versicolor', 'Iris-versicolor', 'Iris-versicolor', 'Iris-virginica', 'Iris-virginica', 'Iris-virginica', 'Iris-virginica', 'Iris-virginica', 'Iris-virginica', 'Iris-versicolor', 'Iris-virginica', 'Iris-virginica', 'Iris-virginica', 'Iris-virginica', 'Iris-virginica', 'Iris-virginica', 'Iris-virginica', 'Iris-virginica', 'Iris-virginica', 'Iris-virginica', 'Iris-virginica', 'Iris-virginica', 'Iris-versicolor', 'Iris-virginica', 'Iris-virginica', 'Iris-virginica', 'Iris-virginica', 'Iris-virginica', 'Iris-virginica', 'Iris-virginica', 'Iris-virginica', 'Iris-virginica', 'Iris-virginica', 'Iris-virginica', 'Iris-virginica', 'Iris-virginica', 'Iris-versicolor', 'Iris-virginica', 'Iris-virginica', 'Iris-virginica', 'Iris-virginica', 'Iris-virginica', 'Iris-virginica']\n"
     ]
    }
   ],
   "source": [
    "QDA_diagonal_training = []\n",
    "QDA_diagonal_training = QDA_training_population(setosa_diagonal_E,versi_diagonal_E,virginica_diagonal_E, training_data, setosa_mu, versi_mu, virginica_mu, 4)\n"
   ]
  },
  {
   "cell_type": "code",
   "execution_count": 67,
   "metadata": {},
   "outputs": [
    {
     "name": "stdout",
     "output_type": "stream",
     "text": [
      "Iris-virginica at element 60 should have been Iris-versicolor\n",
      "Iris-virginica at element 67 should have been Iris-versicolor\n",
      "Iris-versicolor at element 86 should have been Iris-virginica\n",
      "Iris-versicolor at element 99 should have been Iris-virginica\n",
      "Iris-versicolor at element 113 should have been Iris-virginica\n",
      "Error Rate for QDA Training Data Diagonal: 0.041666666666666664\n"
     ]
    }
   ],
   "source": [
    "print(\"Error Rate for QDA Training Data Diagonal: %s\" %(training_error_count(QDA_diagonal_training)/120))\n"
   ]
  },
  {
   "cell_type": "code",
   "execution_count": 68,
   "metadata": {},
   "outputs": [
    {
     "name": "stdout",
     "output_type": "stream",
     "text": [
      "QDA_testing_classification\n",
      "['Iris-setosa', 'Iris-setosa', 'Iris-setosa', 'Iris-setosa', 'Iris-setosa', 'Iris-setosa', 'Iris-setosa', 'Iris-setosa', 'Iris-setosa', 'Iris-setosa', 'Iris-versicolor', 'Iris-versicolor', 'Iris-versicolor', 'Iris-versicolor', 'Iris-versicolor', 'Iris-versicolor', 'Iris-versicolor', 'Iris-versicolor', 'Iris-versicolor', 'Iris-versicolor', 'Iris-virginica', 'Iris-virginica', 'Iris-virginica', 'Iris-virginica', 'Iris-virginica', 'Iris-virginica', 'Iris-virginica', 'Iris-virginica', 'Iris-virginica', 'Iris-virginica']\n",
      "\n",
      "Total Time:\n",
      "0.003902000000000072\n"
     ]
    }
   ],
   "source": [
    "start = process_time()\n",
    "QDA_diagonal_testing = []\n",
    "QDA_diagonal_testing = QDA_testing_population(setosa_diagonal_E,versi_diagonal_E,virginica_diagonal_E, testing_data, setosa_mu, versi_mu, virginica_mu, 4)\n",
    "end = process_time()\n",
    "total_time_diagonal = end - start\n",
    "print(\"\\nTotal Time:\")\n",
    "print(total_time_diagonal)   \n",
    "\n"
   ]
  },
  {
   "cell_type": "code",
   "execution_count": 69,
   "metadata": {},
   "outputs": [
    {
     "name": "stdout",
     "output_type": "stream",
     "text": [
      "Error Rate for QDA Testing Data No Sw: 0.0\n"
     ]
    }
   ],
   "source": [
    "print(\"Error Rate for QDA Testing Data No Sw: %s\" %(testing_error_count(QDA_diagonal_testing)/30))\n",
    "\n"
   ]
  },
  {
   "cell_type": "markdown",
   "metadata": {},
   "source": [
    "# Checking if classes are linearly separable"
   ]
  },
  {
   "cell_type": "code",
   "execution_count": 70,
   "metadata": {
    "scrolled": true
   },
   "outputs": [],
   "source": [
    "noSetosa_data = versi_training\n",
    "noSetosa_data = np.concatenate((noSetosa_data,virginica_training),axis = 1)\n",
    "#print(noSetosa_data)\n",
    "\n",
    "noVersi_data = setosa_training\n",
    "noVersi_data = np.concatenate((noVersi_data,virginica_training),axis = 1)\n",
    "#print(noVersi_data)\n",
    "\n",
    "noVirginica_data = setosa_training\n",
    "noVirginica_data = np.concatenate((noVirginica_data,versi_training),axis = 1)\n",
    "#print(noVirginica_data)"
   ]
  },
  {
   "cell_type": "code",
   "execution_count": 71,
   "metadata": {
    "scrolled": true
   },
   "outputs": [
    {
     "name": "stdout",
     "output_type": "stream",
     "text": [
      "LDA_noSetosa_classification\n",
      "['Iris-versicolor', 'Iris-versicolor', 'Iris-versicolor', 'Iris-versicolor', 'Iris-versicolor', 'Iris-versicolor', 'Iris-versicolor', 'Iris-versicolor', 'Iris-versicolor', 'Iris-versicolor', 'Iris-versicolor', 'Iris-versicolor', 'Iris-versicolor', 'Iris-versicolor', 'Iris-versicolor', 'Iris-versicolor', 'Iris-versicolor', 'Iris-versicolor', 'Iris-versicolor', 'Iris-versicolor', 'Iris-virginica', 'Iris-versicolor', 'Iris-versicolor', 'Iris-versicolor', 'Iris-versicolor', 'Iris-versicolor', 'Iris-versicolor', 'Iris-versicolor', 'Iris-versicolor', 'Iris-versicolor', 'Iris-versicolor', 'Iris-versicolor', 'Iris-versicolor', 'Iris-virginica', 'Iris-versicolor', 'Iris-versicolor', 'Iris-versicolor', 'Iris-versicolor', 'Iris-versicolor', 'Iris-versicolor', 'Iris-virginica', 'Iris-virginica', 'Iris-virginica', 'Iris-virginica', 'Iris-virginica', 'Iris-virginica', 'Iris-virginica', 'Iris-virginica', 'Iris-virginica', 'Iris-virginica', 'Iris-virginica', 'Iris-virginica', 'Iris-virginica', 'Iris-virginica', 'Iris-virginica', 'Iris-virginica', 'Iris-virginica', 'Iris-virginica', 'Iris-virginica', 'Iris-virginica', 'Iris-virginica', 'Iris-virginica', 'Iris-virginica', 'Iris-virginica', 'Iris-virginica', 'Iris-virginica', 'Iris-virginica', 'Iris-virginica', 'Iris-virginica', 'Iris-virginica', 'Iris-virginica', 'Iris-virginica', 'Iris-virginica', 'Iris-versicolor', 'Iris-virginica', 'Iris-virginica', 'Iris-virginica', 'Iris-virginica', 'Iris-virginica', 'Iris-virginica']\n"
     ]
    }
   ],
   "source": [
    "LDA_noSetosa_training = []\n",
    "for i in range(80):\n",
    "    prob1 = gaussian(LDA_E, noSetosa_data, versi_mu, i, 4)\n",
    "    prob2 = gaussian(LDA_E, noSetosa_data, virginica_mu, i, 4)\n",
    "    if max(prob1,prob2) == prob1:\n",
    "        LDA_noSetosa_training.append('Iris-versicolor')\n",
    "    if max(prob1,prob2) == prob2:\n",
    "        LDA_noSetosa_training.append('Iris-virginica')\n",
    "print(\"LDA_noSetosa_classification\")\n",
    "print(LDA_noSetosa_training)"
   ]
  },
  {
   "cell_type": "code",
   "execution_count": 72,
   "metadata": {},
   "outputs": [
    {
     "name": "stdout",
     "output_type": "stream",
     "text": [
      "Iris-virginica at element 20 should have been Iris-versicolor\n",
      "Iris-virginica at element 33 should have been Iris-versicolor\n",
      "Iris-versicolor at element 73 should have been Iris-virginica\n",
      "Error Rate: 0.0375\n"
     ]
    }
   ],
   "source": [
    "errorcount = 0\n",
    "for i in range(40):\n",
    "    if LDA_noSetosa_training[i] != 'Iris-versicolor':\n",
    "        print(\"%s at element %s should have been Iris-versicolor\" %(LDA_noSetosa_training[i], i))\n",
    "        errorcount = errorcount + 1\n",
    "for i in range(40,80):\n",
    "    if LDA_noSetosa_training[i] != 'Iris-virginica':\n",
    "        print(\"%s at element %s should have been Iris-virginica\" %(LDA_noSetosa_training[i], i))\n",
    "        errorcount = errorcount + 1\n",
    "print(\"Error Rate: %s\" %(errorcount/80))\n"
   ]
  },
  {
   "cell_type": "code",
   "execution_count": 73,
   "metadata": {},
   "outputs": [
    {
     "name": "stdout",
     "output_type": "stream",
     "text": [
      "LDA_noVersi_classification\n",
      "['Iris-setosa', 'Iris-setosa', 'Iris-setosa', 'Iris-setosa', 'Iris-setosa', 'Iris-setosa', 'Iris-setosa', 'Iris-setosa', 'Iris-setosa', 'Iris-setosa', 'Iris-setosa', 'Iris-setosa', 'Iris-setosa', 'Iris-setosa', 'Iris-setosa', 'Iris-setosa', 'Iris-setosa', 'Iris-setosa', 'Iris-setosa', 'Iris-setosa', 'Iris-setosa', 'Iris-setosa', 'Iris-setosa', 'Iris-setosa', 'Iris-setosa', 'Iris-setosa', 'Iris-setosa', 'Iris-setosa', 'Iris-setosa', 'Iris-setosa', 'Iris-setosa', 'Iris-setosa', 'Iris-setosa', 'Iris-setosa', 'Iris-setosa', 'Iris-setosa', 'Iris-setosa', 'Iris-setosa', 'Iris-setosa', 'Iris-setosa', 'Iris-virginica', 'Iris-virginica', 'Iris-virginica', 'Iris-virginica', 'Iris-virginica', 'Iris-virginica', 'Iris-virginica', 'Iris-virginica', 'Iris-virginica', 'Iris-virginica', 'Iris-virginica', 'Iris-virginica', 'Iris-virginica', 'Iris-virginica', 'Iris-virginica', 'Iris-virginica', 'Iris-virginica', 'Iris-virginica', 'Iris-virginica', 'Iris-virginica', 'Iris-virginica', 'Iris-virginica', 'Iris-virginica', 'Iris-virginica', 'Iris-virginica', 'Iris-virginica', 'Iris-virginica', 'Iris-virginica', 'Iris-virginica', 'Iris-virginica', 'Iris-virginica', 'Iris-virginica', 'Iris-virginica', 'Iris-virginica', 'Iris-virginica', 'Iris-virginica', 'Iris-virginica', 'Iris-virginica', 'Iris-virginica', 'Iris-virginica']\n"
     ]
    }
   ],
   "source": [
    "LDA_noVersi_training = []\n",
    "for i in range(80):\n",
    "    prob1 = gaussian(LDA_E, noVersi_data, setosa_mu, i, 4)\n",
    "    prob2 = gaussian(LDA_E, noVersi_data, virginica_mu, i, 4)\n",
    "    if max(prob1,prob2) == prob1:\n",
    "        LDA_noVersi_training.append('Iris-setosa')\n",
    "    if max(prob1,prob2) == prob2:\n",
    "        LDA_noVersi_training.append('Iris-virginica')\n",
    "print(\"LDA_noVersi_classification\")\n",
    "print(LDA_noVersi_training)"
   ]
  },
  {
   "cell_type": "code",
   "execution_count": 74,
   "metadata": {},
   "outputs": [
    {
     "name": "stdout",
     "output_type": "stream",
     "text": [
      "Error Rate: 0.0\n"
     ]
    }
   ],
   "source": [
    "errorcount = 0\n",
    "for i in range(40):\n",
    "    if LDA_noVersi_training[i] != 'Iris-setosa':\n",
    "        print(\"%s at element %s should have been Iris-setosa\" %(LDA_noVersi_training[i], i))\n",
    "        errorcount = errorcount + 1\n",
    "for i in range(40,80):\n",
    "    if LDA_noVersi_training[i] != 'Iris-virginica':\n",
    "        print(\"%s at element %s should have been Iris-virginica\" %(LDA_noVersi_training[i], i))\n",
    "        errorcount = errorcount + 1\n",
    "print(\"Error Rate: %s\" %(errorcount/80))\n"
   ]
  },
  {
   "cell_type": "code",
   "execution_count": 75,
   "metadata": {},
   "outputs": [
    {
     "name": "stdout",
     "output_type": "stream",
     "text": [
      "LDA_noVirginica_classification\n",
      "['Iris-setosa', 'Iris-setosa', 'Iris-setosa', 'Iris-setosa', 'Iris-setosa', 'Iris-setosa', 'Iris-setosa', 'Iris-setosa', 'Iris-setosa', 'Iris-setosa', 'Iris-setosa', 'Iris-setosa', 'Iris-setosa', 'Iris-setosa', 'Iris-setosa', 'Iris-setosa', 'Iris-setosa', 'Iris-setosa', 'Iris-setosa', 'Iris-setosa', 'Iris-setosa', 'Iris-setosa', 'Iris-setosa', 'Iris-setosa', 'Iris-setosa', 'Iris-setosa', 'Iris-setosa', 'Iris-setosa', 'Iris-setosa', 'Iris-setosa', 'Iris-setosa', 'Iris-setosa', 'Iris-setosa', 'Iris-setosa', 'Iris-setosa', 'Iris-setosa', 'Iris-setosa', 'Iris-setosa', 'Iris-setosa', 'Iris-setosa', 'Iris-versicolor', 'Iris-versicolor', 'Iris-versicolor', 'Iris-versicolor', 'Iris-versicolor', 'Iris-versicolor', 'Iris-versicolor', 'Iris-versicolor', 'Iris-versicolor', 'Iris-versicolor', 'Iris-versicolor', 'Iris-versicolor', 'Iris-versicolor', 'Iris-versicolor', 'Iris-versicolor', 'Iris-versicolor', 'Iris-versicolor', 'Iris-versicolor', 'Iris-versicolor', 'Iris-versicolor', 'Iris-versicolor', 'Iris-versicolor', 'Iris-versicolor', 'Iris-versicolor', 'Iris-versicolor', 'Iris-versicolor', 'Iris-versicolor', 'Iris-versicolor', 'Iris-versicolor', 'Iris-versicolor', 'Iris-versicolor', 'Iris-versicolor', 'Iris-versicolor', 'Iris-versicolor', 'Iris-versicolor', 'Iris-versicolor', 'Iris-versicolor', 'Iris-versicolor', 'Iris-versicolor', 'Iris-versicolor']\n"
     ]
    }
   ],
   "source": [
    "LDA_noVirginica_training = []\n",
    "for i in range(80):\n",
    "    prob1 = gaussian(LDA_E, noVirginica_data, setosa_mu, i, 4)\n",
    "    prob2 = gaussian(LDA_E, noVirginica_data, versi_mu, i, 4)\n",
    "    if max(prob1,prob2) == prob1:\n",
    "        LDA_noVirginica_training.append('Iris-setosa')\n",
    "    if max(prob1,prob2) == prob2:\n",
    "        LDA_noVirginica_training.append('Iris-versicolor')\n",
    "print(\"LDA_noVirginica_classification\")\n",
    "print(LDA_noVirginica_training)"
   ]
  },
  {
   "cell_type": "code",
   "execution_count": 76,
   "metadata": {},
   "outputs": [
    {
     "name": "stdout",
     "output_type": "stream",
     "text": [
      "Error Rate: 0.0\n"
     ]
    }
   ],
   "source": [
    "errorcount = 0\n",
    "for i in range(40):\n",
    "    if LDA_noVirginica_training[i] != 'Iris-setosa':\n",
    "        print(\"%s at element %s should have been Iris-setosa\" %(LDA_noVirginica_training[i], i))\n",
    "        errorcount = errorcount + 1\n",
    "for i in range(40,80):\n",
    "    if LDA_noVirginica_training[i] != 'Iris-versicolor':\n",
    "        print(\"%s at element %s should have been Iris-versicolor\" %(LDA_noVirginica_training[i], i))\n",
    "        errorcount = errorcount + 1\n",
    "print(\"Error Rate: %s\" %(errorcount/80))\n"
   ]
  },
  {
   "cell_type": "code",
   "execution_count": null,
   "metadata": {},
   "outputs": [],
   "source": []
  }
 ],
 "metadata": {
  "kernelspec": {
   "display_name": "Python 3",
   "language": "python",
   "name": "python3"
  },
  "language_info": {
   "codemirror_mode": {
    "name": "ipython",
    "version": 3
   },
   "file_extension": ".py",
   "mimetype": "text/x-python",
   "name": "python",
   "nbconvert_exporter": "python",
   "pygments_lexer": "ipython3",
   "version": "3.7.6"
  }
 },
 "nbformat": 4,
 "nbformat_minor": 4
}

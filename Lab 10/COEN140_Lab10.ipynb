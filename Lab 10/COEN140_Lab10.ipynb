{
  "nbformat": 4,
  "nbformat_minor": 0,
  "metadata": {
    "colab": {
      "name": "COEN140_Lab10.ipynb",
      "provenance": []
    },
    "kernelspec": {
      "name": "python3",
      "display_name": "Python 3"
    }
  },
  "cells": [
    {
      "cell_type": "code",
      "metadata": {
        "id": "aI_HNC44m9it",
        "colab_type": "code",
        "outputId": "98684384-2cd2-4af6-cf04-84ffd4a147b9",
        "colab": {
          "base_uri": "https://localhost:8080/",
          "height": 34
        }
      },
      "source": [
        "%tensorflow_version 1.x\n",
        "import tensorflow as tf"
      ],
      "execution_count": 1,
      "outputs": [
        {
          "output_type": "stream",
          "text": [
            "TensorFlow 1.x selected.\n"
          ],
          "name": "stdout"
        }
      ]
    },
    {
      "cell_type": "code",
      "metadata": {
        "id": "LJkMY_5Um-7C",
        "colab_type": "code",
        "colab": {}
      },
      "source": [
        "from tensorflow.examples.tutorials.mnist import input_data"
      ],
      "execution_count": 0,
      "outputs": []
    },
    {
      "cell_type": "code",
      "metadata": {
        "id": "Lz59ytCFnaNo",
        "colab_type": "code",
        "outputId": "33ce0b50-9ac5-45a8-e9a3-ab7e47fe5cf4",
        "colab": {
          "base_uri": "https://localhost:8080/",
          "height": 530
        }
      },
      "source": [
        "mnist = input_data.read_data_sets(\"MNIST_data/\", one_hot=True)"
      ],
      "execution_count": 3,
      "outputs": [
        {
          "output_type": "stream",
          "text": [
            "WARNING:tensorflow:From <ipython-input-3-a839aeb82f4b>:1: read_data_sets (from tensorflow.contrib.learn.python.learn.datasets.mnist) is deprecated and will be removed in a future version.\n",
            "Instructions for updating:\n",
            "Please use alternatives such as official/mnist/dataset.py from tensorflow/models.\n",
            "WARNING:tensorflow:From /tensorflow-1.15.2/python3.6/tensorflow_core/contrib/learn/python/learn/datasets/mnist.py:260: maybe_download (from tensorflow.contrib.learn.python.learn.datasets.base) is deprecated and will be removed in a future version.\n",
            "Instructions for updating:\n",
            "Please write your own downloading logic.\n",
            "WARNING:tensorflow:From /tensorflow-1.15.2/python3.6/tensorflow_core/contrib/learn/python/learn/datasets/base.py:252: _internal_retry.<locals>.wrap.<locals>.wrapped_fn (from tensorflow.contrib.learn.python.learn.datasets.base) is deprecated and will be removed in a future version.\n",
            "Instructions for updating:\n",
            "Please use urllib or similar directly.\n",
            "Successfully downloaded train-images-idx3-ubyte.gz 9912422 bytes.\n",
            "WARNING:tensorflow:From /tensorflow-1.15.2/python3.6/tensorflow_core/contrib/learn/python/learn/datasets/mnist.py:262: extract_images (from tensorflow.contrib.learn.python.learn.datasets.mnist) is deprecated and will be removed in a future version.\n",
            "Instructions for updating:\n",
            "Please use tf.data to implement this functionality.\n",
            "Extracting MNIST_data/train-images-idx3-ubyte.gz\n",
            "Successfully downloaded train-labels-idx1-ubyte.gz 28881 bytes.\n",
            "WARNING:tensorflow:From /tensorflow-1.15.2/python3.6/tensorflow_core/contrib/learn/python/learn/datasets/mnist.py:267: extract_labels (from tensorflow.contrib.learn.python.learn.datasets.mnist) is deprecated and will be removed in a future version.\n",
            "Instructions for updating:\n",
            "Please use tf.data to implement this functionality.\n",
            "Extracting MNIST_data/train-labels-idx1-ubyte.gz\n",
            "WARNING:tensorflow:From /tensorflow-1.15.2/python3.6/tensorflow_core/contrib/learn/python/learn/datasets/mnist.py:110: dense_to_one_hot (from tensorflow.contrib.learn.python.learn.datasets.mnist) is deprecated and will be removed in a future version.\n",
            "Instructions for updating:\n",
            "Please use tf.one_hot on tensors.\n",
            "Successfully downloaded t10k-images-idx3-ubyte.gz 1648877 bytes.\n",
            "Extracting MNIST_data/t10k-images-idx3-ubyte.gz\n",
            "Successfully downloaded t10k-labels-idx1-ubyte.gz 4542 bytes.\n",
            "Extracting MNIST_data/t10k-labels-idx1-ubyte.gz\n",
            "WARNING:tensorflow:From /tensorflow-1.15.2/python3.6/tensorflow_core/contrib/learn/python/learn/datasets/mnist.py:290: DataSet.__init__ (from tensorflow.contrib.learn.python.learn.datasets.mnist) is deprecated and will be removed in a future version.\n",
            "Instructions for updating:\n",
            "Please use alternatives such as official/mnist/dataset.py from tensorflow/models.\n"
          ],
          "name": "stdout"
        }
      ]
    },
    {
      "cell_type": "markdown",
      "metadata": {
        "id": "Zcw-nQAoztlQ",
        "colab_type": "text"
      },
      "source": [
        "It is possible that we start with bad initialized weights, thus we end up at a local minimum. Thus by increasing the number of iterations, we can have many different initializations where we take the initialization with the lowest local minimum."
      ]
    },
    {
      "cell_type": "code",
      "metadata": {
        "id": "W7p_gVRxncTk",
        "colab_type": "code",
        "colab": {}
      },
      "source": [
        "n_train = mnist.train.num_examples  # 55,000\n",
        "n_validation = mnist.validation.num_examples  # 5000\n",
        "n_test = mnist.test.num_examples  # 10,000"
      ],
      "execution_count": 0,
      "outputs": []
    },
    {
      "cell_type": "code",
      "metadata": {
        "id": "mZr_3qpNnwT6",
        "colab_type": "code",
        "colab": {}
      },
      "source": [
        "n_input = 784  # input layer (28x28 pixels)\n",
        "n_hidden1 = 512  # 1st hidden layer\n",
        "n_output = 10  # output layer (0-9 digits)"
      ],
      "execution_count": 0,
      "outputs": []
    },
    {
      "cell_type": "code",
      "metadata": {
        "id": "XRtjMUqBn828",
        "colab_type": "code",
        "colab": {}
      },
      "source": [
        "learning_rate = 1e-4\n",
        "n_iterations = 10000\n",
        "batch_size = 128\n",
        "dropout = 0.5"
      ],
      "execution_count": 0,
      "outputs": []
    },
    {
      "cell_type": "code",
      "metadata": {
        "id": "1hK3jO7yoK73",
        "colab_type": "code",
        "colab": {}
      },
      "source": [
        "X = tf.placeholder(\"float\", [None, n_input]) # tf.compat.v1.placeholder(dtype, shape=None, name=None)\n",
        "Y = tf.placeholder(\"float\", [None, n_output])\n",
        "keep_prob = tf.placeholder(tf.float32)"
      ],
      "execution_count": 0,
      "outputs": []
    },
    {
      "cell_type": "code",
      "metadata": {
        "id": "tut8TVp4oWhL",
        "colab_type": "code",
        "colab": {}
      },
      "source": [
        "weights = {\n",
        "    'w1': tf.Variable(tf.truncated_normal([n_input, n_hidden1], stddev=0.1)),\n",
        "    'out': tf.Variable(tf.truncated_normal([n_hidden1, n_output], stddev=0.1)),\n",
        "}"
      ],
      "execution_count": 0,
      "outputs": []
    },
    {
      "cell_type": "code",
      "metadata": {
        "id": "wlc8xJBco0A4",
        "colab_type": "code",
        "colab": {}
      },
      "source": [
        "biases = {\n",
        "    'b1': tf.Variable(tf.constant(0.1, shape=[n_hidden1])),\n",
        "    'out': tf.Variable(tf.constant(0.1, shape=[n_output]))\n",
        "}"
      ],
      "execution_count": 0,
      "outputs": []
    },
    {
      "cell_type": "code",
      "metadata": {
        "id": "ySV62pA4o0Um",
        "colab_type": "code",
        "outputId": "9213b77b-92b5-4743-c6d0-4c2975b62ad1",
        "colab": {
          "base_uri": "https://localhost:8080/",
          "height": 68
        }
      },
      "source": [
        "layer_1 = tf.add(tf.matmul(X, weights['w1']), biases['b1'])\n",
        "layer_drop = tf.nn.dropout(layer_1, keep_prob)\n",
        "output_layer = tf.matmul(layer_1, weights['out']) + biases['out']"
      ],
      "execution_count": 10,
      "outputs": [
        {
          "output_type": "stream",
          "text": [
            "WARNING:tensorflow:From <ipython-input-10-c187c66b9fb6>:2: calling dropout (from tensorflow.python.ops.nn_ops) with keep_prob is deprecated and will be removed in a future version.\n",
            "Instructions for updating:\n",
            "Please use `rate` instead of `keep_prob`. Rate should be set to `rate = 1 - keep_prob`.\n"
          ],
          "name": "stdout"
        }
      ]
    },
    {
      "cell_type": "code",
      "metadata": {
        "id": "LpBcLj1Lo7pP",
        "colab_type": "code",
        "outputId": "bd2541c6-ff1f-4e4a-d060-5f603c2a85c2",
        "colab": {
          "base_uri": "https://localhost:8080/",
          "height": 153
        }
      },
      "source": [
        "cross_entropy = tf.reduce_mean(\n",
        "    tf.nn.softmax_cross_entropy_with_logits(\n",
        "        labels=Y, logits=output_layer\n",
        "        ))\n",
        "train_step = tf.train.AdamOptimizer(1e-4).minimize(cross_entropy)"
      ],
      "execution_count": 11,
      "outputs": [
        {
          "output_type": "stream",
          "text": [
            "WARNING:tensorflow:From <ipython-input-11-a712c0a48de1>:3: softmax_cross_entropy_with_logits (from tensorflow.python.ops.nn_ops) is deprecated and will be removed in a future version.\n",
            "Instructions for updating:\n",
            "\n",
            "Future major versions of TensorFlow will allow gradients to flow\n",
            "into the labels input on backprop by default.\n",
            "\n",
            "See `tf.nn.softmax_cross_entropy_with_logits_v2`.\n",
            "\n"
          ],
          "name": "stdout"
        }
      ]
    },
    {
      "cell_type": "code",
      "metadata": {
        "id": "-McOy2sLpM59",
        "colab_type": "code",
        "colab": {}
      },
      "source": [
        "correct_pred = tf.equal(tf.argmax(output_layer, 1), tf.argmax(Y, 1))\n",
        "accuracy = tf.reduce_mean(tf.cast(correct_pred, tf.float32))"
      ],
      "execution_count": 0,
      "outputs": []
    },
    {
      "cell_type": "code",
      "metadata": {
        "id": "wYgglU_ypwxo",
        "colab_type": "code",
        "colab": {}
      },
      "source": [
        "init = tf.global_variables_initializer()\n",
        "sess = tf.Session()\n",
        "sess.run(init)"
      ],
      "execution_count": 0,
      "outputs": []
    },
    {
      "cell_type": "code",
      "metadata": {
        "id": "OnkdmZErpzMq",
        "colab_type": "code",
        "outputId": "43f39327-b060-4feb-c866-c5be55ec28bd",
        "colab": {
          "base_uri": "https://localhost:8080/",
          "height": 1000
        }
      },
      "source": [
        "# train on mini batches\n",
        "for i in range(n_iterations):\n",
        "    batch_x, batch_y = mnist.train.next_batch(batch_size)\n",
        "    sess.run(train_step, feed_dict={\n",
        "        X: batch_x, Y: batch_y, keep_prob: dropout\n",
        "        })\n",
        "\n",
        "    # print loss and accuracy (per minibatch)\n",
        "    if i % 100 == 0:\n",
        "        minibatch_loss, minibatch_accuracy = sess.run(\n",
        "            [cross_entropy, accuracy],\n",
        "            feed_dict={X: batch_x, Y: batch_y, keep_prob: 1.0}\n",
        "            )\n",
        "        print(\n",
        "            \"Iteration\",\n",
        "            str(i),\n",
        "            \"\\t| Loss =\",\n",
        "            str(minibatch_loss),\n",
        "            \"\\t| Accuracy =\",\n",
        "            str(minibatch_accuracy)\n",
        "            )"
      ],
      "execution_count": 14,
      "outputs": [
        {
          "output_type": "stream",
          "text": [
            "Iteration 0 \t| Loss = 2.801981 \t| Accuracy = 0.171875\n",
            "Iteration 100 \t| Loss = 0.71390736 \t| Accuracy = 0.796875\n",
            "Iteration 200 \t| Loss = 0.43365365 \t| Accuracy = 0.8671875\n",
            "Iteration 300 \t| Loss = 0.592295 \t| Accuracy = 0.859375\n",
            "Iteration 400 \t| Loss = 0.3845607 \t| Accuracy = 0.9140625\n",
            "Iteration 500 \t| Loss = 0.32277283 \t| Accuracy = 0.8984375\n",
            "Iteration 600 \t| Loss = 0.20161366 \t| Accuracy = 0.9375\n",
            "Iteration 700 \t| Loss = 0.4955455 \t| Accuracy = 0.8671875\n",
            "Iteration 800 \t| Loss = 0.30600566 \t| Accuracy = 0.9140625\n",
            "Iteration 900 \t| Loss = 0.25249603 \t| Accuracy = 0.921875\n",
            "Iteration 1000 \t| Loss = 0.3538981 \t| Accuracy = 0.8828125\n",
            "Iteration 1100 \t| Loss = 0.33122575 \t| Accuracy = 0.9140625\n",
            "Iteration 1200 \t| Loss = 0.37656677 \t| Accuracy = 0.90625\n",
            "Iteration 1300 \t| Loss = 0.39964366 \t| Accuracy = 0.859375\n",
            "Iteration 1400 \t| Loss = 0.39344266 \t| Accuracy = 0.8984375\n",
            "Iteration 1500 \t| Loss = 0.25468075 \t| Accuracy = 0.9453125\n",
            "Iteration 1600 \t| Loss = 0.27151585 \t| Accuracy = 0.9296875\n",
            "Iteration 1700 \t| Loss = 0.36597222 \t| Accuracy = 0.8828125\n",
            "Iteration 1800 \t| Loss = 0.3330088 \t| Accuracy = 0.90625\n",
            "Iteration 1900 \t| Loss = 0.36169887 \t| Accuracy = 0.8828125\n",
            "Iteration 2000 \t| Loss = 0.27525237 \t| Accuracy = 0.9296875\n",
            "Iteration 2100 \t| Loss = 0.29370555 \t| Accuracy = 0.9375\n",
            "Iteration 2200 \t| Loss = 0.1513004 \t| Accuracy = 0.9375\n",
            "Iteration 2300 \t| Loss = 0.3519088 \t| Accuracy = 0.8984375\n",
            "Iteration 2400 \t| Loss = 0.38253042 \t| Accuracy = 0.9140625\n",
            "Iteration 2500 \t| Loss = 0.33222687 \t| Accuracy = 0.9296875\n",
            "Iteration 2600 \t| Loss = 0.113880314 \t| Accuracy = 0.953125\n",
            "Iteration 2700 \t| Loss = 0.31917724 \t| Accuracy = 0.9296875\n",
            "Iteration 2800 \t| Loss = 0.20563863 \t| Accuracy = 0.9375\n",
            "Iteration 2900 \t| Loss = 0.18291906 \t| Accuracy = 0.9609375\n",
            "Iteration 3000 \t| Loss = 0.32607442 \t| Accuracy = 0.921875\n",
            "Iteration 3100 \t| Loss = 0.32420528 \t| Accuracy = 0.90625\n",
            "Iteration 3200 \t| Loss = 0.31154442 \t| Accuracy = 0.90625\n",
            "Iteration 3300 \t| Loss = 0.2725851 \t| Accuracy = 0.90625\n",
            "Iteration 3400 \t| Loss = 0.17058413 \t| Accuracy = 0.9453125\n",
            "Iteration 3500 \t| Loss = 0.26173267 \t| Accuracy = 0.9140625\n",
            "Iteration 3600 \t| Loss = 0.20859233 \t| Accuracy = 0.953125\n",
            "Iteration 3700 \t| Loss = 0.35569668 \t| Accuracy = 0.8828125\n",
            "Iteration 3800 \t| Loss = 0.184905 \t| Accuracy = 0.9609375\n",
            "Iteration 3900 \t| Loss = 0.20549437 \t| Accuracy = 0.9453125\n",
            "Iteration 4000 \t| Loss = 0.2492883 \t| Accuracy = 0.9453125\n",
            "Iteration 4100 \t| Loss = 0.23582822 \t| Accuracy = 0.9296875\n",
            "Iteration 4200 \t| Loss = 0.34948915 \t| Accuracy = 0.9296875\n",
            "Iteration 4300 \t| Loss = 0.28522044 \t| Accuracy = 0.921875\n",
            "Iteration 4400 \t| Loss = 0.29314613 \t| Accuracy = 0.9296875\n",
            "Iteration 4500 \t| Loss = 0.29667434 \t| Accuracy = 0.90625\n",
            "Iteration 4600 \t| Loss = 0.12659496 \t| Accuracy = 0.9609375\n",
            "Iteration 4700 \t| Loss = 0.1432063 \t| Accuracy = 0.9453125\n",
            "Iteration 4800 \t| Loss = 0.17390773 \t| Accuracy = 0.9609375\n",
            "Iteration 4900 \t| Loss = 0.11225379 \t| Accuracy = 0.9609375\n",
            "Iteration 5000 \t| Loss = 0.17379837 \t| Accuracy = 0.9453125\n",
            "Iteration 5100 \t| Loss = 0.2632628 \t| Accuracy = 0.921875\n",
            "Iteration 5200 \t| Loss = 0.28076732 \t| Accuracy = 0.921875\n",
            "Iteration 5300 \t| Loss = 0.17624937 \t| Accuracy = 0.9375\n",
            "Iteration 5400 \t| Loss = 0.2667345 \t| Accuracy = 0.9140625\n",
            "Iteration 5500 \t| Loss = 0.19982684 \t| Accuracy = 0.96875\n",
            "Iteration 5600 \t| Loss = 0.32686418 \t| Accuracy = 0.890625\n",
            "Iteration 5700 \t| Loss = 0.24870726 \t| Accuracy = 0.9375\n",
            "Iteration 5800 \t| Loss = 0.22683424 \t| Accuracy = 0.9296875\n",
            "Iteration 5900 \t| Loss = 0.26380253 \t| Accuracy = 0.90625\n",
            "Iteration 6000 \t| Loss = 0.21509774 \t| Accuracy = 0.9296875\n",
            "Iteration 6100 \t| Loss = 0.19997025 \t| Accuracy = 0.953125\n",
            "Iteration 6200 \t| Loss = 0.14043799 \t| Accuracy = 0.9609375\n",
            "Iteration 6300 \t| Loss = 0.13229097 \t| Accuracy = 0.9765625\n",
            "Iteration 6400 \t| Loss = 0.20235027 \t| Accuracy = 0.9609375\n",
            "Iteration 6500 \t| Loss = 0.42183942 \t| Accuracy = 0.9140625\n",
            "Iteration 6600 \t| Loss = 0.27321142 \t| Accuracy = 0.9296875\n",
            "Iteration 6700 \t| Loss = 0.13358237 \t| Accuracy = 0.9609375\n",
            "Iteration 6800 \t| Loss = 0.43519148 \t| Accuracy = 0.890625\n",
            "Iteration 6900 \t| Loss = 0.21314082 \t| Accuracy = 0.9453125\n",
            "Iteration 7000 \t| Loss = 0.22634397 \t| Accuracy = 0.9296875\n",
            "Iteration 7100 \t| Loss = 0.27654284 \t| Accuracy = 0.90625\n",
            "Iteration 7200 \t| Loss = 0.24938917 \t| Accuracy = 0.9296875\n",
            "Iteration 7300 \t| Loss = 0.18893568 \t| Accuracy = 0.953125\n",
            "Iteration 7400 \t| Loss = 0.22436526 \t| Accuracy = 0.9375\n",
            "Iteration 7500 \t| Loss = 0.18850684 \t| Accuracy = 0.9375\n",
            "Iteration 7600 \t| Loss = 0.22632852 \t| Accuracy = 0.953125\n",
            "Iteration 7700 \t| Loss = 0.1941896 \t| Accuracy = 0.9296875\n",
            "Iteration 7800 \t| Loss = 0.28187776 \t| Accuracy = 0.9375\n",
            "Iteration 7900 \t| Loss = 0.18772951 \t| Accuracy = 0.921875\n",
            "Iteration 8000 \t| Loss = 0.3755101 \t| Accuracy = 0.90625\n",
            "Iteration 8100 \t| Loss = 0.26752353 \t| Accuracy = 0.9375\n",
            "Iteration 8200 \t| Loss = 0.2281883 \t| Accuracy = 0.953125\n",
            "Iteration 8300 \t| Loss = 0.28494734 \t| Accuracy = 0.9296875\n",
            "Iteration 8400 \t| Loss = 0.22854325 \t| Accuracy = 0.9140625\n",
            "Iteration 8500 \t| Loss = 0.22615835 \t| Accuracy = 0.921875\n",
            "Iteration 8600 \t| Loss = 0.112828135 \t| Accuracy = 0.9609375\n",
            "Iteration 8700 \t| Loss = 0.22822392 \t| Accuracy = 0.921875\n",
            "Iteration 8800 \t| Loss = 0.30939376 \t| Accuracy = 0.921875\n",
            "Iteration 8900 \t| Loss = 0.4272101 \t| Accuracy = 0.9140625\n",
            "Iteration 9000 \t| Loss = 0.20284034 \t| Accuracy = 0.921875\n",
            "Iteration 9100 \t| Loss = 0.18650918 \t| Accuracy = 0.953125\n",
            "Iteration 9200 \t| Loss = 0.34073508 \t| Accuracy = 0.9140625\n",
            "Iteration 9300 \t| Loss = 0.16752937 \t| Accuracy = 0.9609375\n",
            "Iteration 9400 \t| Loss = 0.2044377 \t| Accuracy = 0.9375\n",
            "Iteration 9500 \t| Loss = 0.26207936 \t| Accuracy = 0.9140625\n",
            "Iteration 9600 \t| Loss = 0.25071004 \t| Accuracy = 0.9296875\n",
            "Iteration 9700 \t| Loss = 0.23625658 \t| Accuracy = 0.921875\n",
            "Iteration 9800 \t| Loss = 0.22450586 \t| Accuracy = 0.921875\n",
            "Iteration 9900 \t| Loss = 0.27048716 \t| Accuracy = 0.890625\n"
          ],
          "name": "stdout"
        }
      ]
    },
    {
      "cell_type": "code",
      "metadata": {
        "id": "7j2XGrMwp5Wi",
        "colab_type": "code",
        "outputId": "fcc27a7a-e1ef-4205-8568-e89f75934109",
        "colab": {
          "base_uri": "https://localhost:8080/",
          "height": 51
        }
      },
      "source": [
        "test_accuracy = sess.run(accuracy, feed_dict={X: mnist.test.images, Y: mnist.test.labels, keep_prob: 1.0})\n",
        "print(\"\\nAccuracy on test set:\", test_accuracy)"
      ],
      "execution_count": 15,
      "outputs": [
        {
          "output_type": "stream",
          "text": [
            "\n",
            "Accuracy on test set: 0.9259\n"
          ],
          "name": "stdout"
        }
      ]
    },
    {
      "cell_type": "code",
      "metadata": {
        "id": "yg2qobhaqEyU",
        "colab_type": "code",
        "colab": {}
      },
      "source": [
        ""
      ],
      "execution_count": 0,
      "outputs": []
    }
  ]
}